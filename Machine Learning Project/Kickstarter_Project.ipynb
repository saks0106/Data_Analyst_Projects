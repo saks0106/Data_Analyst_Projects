{
 "cells": [
  {
   "cell_type": "markdown",
   "metadata": {
    "id": "lB7MnI-uhXlj"
   },
   "source": [
    "# Kickstarter Projects is a platform where Entrepreneurs can post their projects or business ideas and try and get funded from other people.\n",
    "\n",
    "\n",
    "Recommended Analysis\n",
    "\n",
    "    1.Which category has the highest success percentage? How many projects have been successful?\n",
    "\n",
    "    2.What project with a goal over $1,000 USD, had the biggest Goal Completion % (Pledged / Goal)? How much money was pledged?\n",
    "\n",
    "    3.Can we identify any trends in project success rates over the years?\n",
    "\n",
    "    4.As an investor, what types of projects should you be looking at to guarantee future success?\n",
    "\n",
    "We'll try to find the answers for the above questions and more with the help of Python libraries like Pandas and Matplotlib and few of the questions will require external Business Intelligence software like Power BI. "
   ]
  },
  {
   "cell_type": "markdown",
   "metadata": {
    "id": "7fhFVwiGibCh"
   },
   "source": [
    "### Importing basic libraries"
   ]
  },
  {
   "cell_type": "code",
   "execution_count": 1,
   "metadata": {
    "id": "eAFSgboL0rz5"
   },
   "outputs": [],
   "source": [
    "import pandas as pd\n",
    "import numpy as np\n",
    "import matplotlib.pyplot as plt\n",
    "import seaborn as sns"
   ]
  },
  {
   "cell_type": "markdown",
   "metadata": {
    "id": "hFxt-FVGi174"
   },
   "source": [
    "### Importing required Packages to get data from Google Drive"
   ]
  },
  {
   "cell_type": "code",
   "execution_count": 2,
   "metadata": {
    "id": "GtjQbcIq2ET2"
   },
   "outputs": [
    {
     "ename": "ModuleNotFoundError",
     "evalue": "No module named 'google.colab'",
     "output_type": "error",
     "traceback": [
      "\u001b[1;31m---------------------------------------------------------------------------\u001b[0m",
      "\u001b[1;31mModuleNotFoundError\u001b[0m                       Traceback (most recent call last)",
      "\u001b[1;32m~\\AppData\\Local\\Temp/ipykernel_2124/1121106926.py\u001b[0m in \u001b[0;36m<module>\u001b[1;34m\u001b[0m\n\u001b[0;32m      3\u001b[0m \u001b[1;32mfrom\u001b[0m \u001b[0mpydrive\u001b[0m\u001b[1;33m.\u001b[0m\u001b[0mauth\u001b[0m \u001b[1;32mimport\u001b[0m \u001b[0mGoogleAuth\u001b[0m\u001b[1;33m\u001b[0m\u001b[1;33m\u001b[0m\u001b[0m\n\u001b[0;32m      4\u001b[0m \u001b[1;32mfrom\u001b[0m \u001b[0mpydrive\u001b[0m\u001b[1;33m.\u001b[0m\u001b[0mdrive\u001b[0m \u001b[1;32mimport\u001b[0m \u001b[0mGoogleDrive\u001b[0m\u001b[1;33m\u001b[0m\u001b[1;33m\u001b[0m\u001b[0m\n\u001b[1;32m----> 5\u001b[1;33m \u001b[1;32mfrom\u001b[0m \u001b[0mgoogle\u001b[0m\u001b[1;33m.\u001b[0m\u001b[0mcolab\u001b[0m \u001b[1;32mimport\u001b[0m \u001b[0mauth\u001b[0m\u001b[1;33m\u001b[0m\u001b[1;33m\u001b[0m\u001b[0m\n\u001b[0m\u001b[0;32m      6\u001b[0m \u001b[1;32mfrom\u001b[0m \u001b[0moauth2client\u001b[0m\u001b[1;33m.\u001b[0m\u001b[0mclient\u001b[0m \u001b[1;32mimport\u001b[0m \u001b[0mGoogleCredentials\u001b[0m\u001b[1;33m\u001b[0m\u001b[1;33m\u001b[0m\u001b[0m\n\u001b[0;32m      7\u001b[0m \u001b[1;33m\u001b[0m\u001b[0m\n",
      "\u001b[1;31mModuleNotFoundError\u001b[0m: No module named 'google.colab'"
     ]
    }
   ],
   "source": [
    "# !pip install -U -q PyDrive\n",
    "\n",
    "# from pydrive.auth import GoogleAuth\n",
    "# from pydrive.drive import GoogleDrive\n",
    "# from google.colab import auth\n",
    "# from oauth2client.client import GoogleCredentials\n",
    "\n",
    "\n",
    "# # Authenticate and create the PyDrive client.\n",
    "# auth.authenticate_user()\n",
    "# gauth = GoogleAuth()\n",
    "# gauth.credentials = GoogleCredentials.get_application_default()\n",
    "# drive = GoogleDrive(gauth)\n"
   ]
  },
  {
   "cell_type": "code",
   "execution_count": null,
   "metadata": {
    "id": "1jRYS6uz1Juk"
   },
   "outputs": [],
   "source": [
    "# link = 'https://drive.google.com/file/d/1vrG0yPux2F-s7WbZWiajqKwosmp5_dyT/view?usp=sharing'\n",
    "\n",
    "\n",
    "# # to get the id part of the file\n",
    "# id = link.split(\"/\")[-2]\n",
    "\n",
    "# downloaded = drive.CreateFile({'id':id})\n",
    "# downloaded.GetContentFile('kickstarter_projects.csv')\n",
    "# #Parsing the date columns at the inital stage itself\n",
    "# df = pd.read_csv('kickstarter_projects.csv',parse_dates=['Deadline','Launched'])"
   ]
  },
  {
   "cell_type": "code",
   "execution_count": 2,
   "metadata": {},
   "outputs": [],
   "source": [
    "df = pd.read_csv('kickstarter_projects.csv',parse_dates=['Deadline','Launched'])"
   ]
  },
  {
   "cell_type": "code",
   "execution_count": 3,
   "metadata": {
    "colab": {
     "base_uri": "https://localhost:8080/",
     "height": 337
    },
    "id": "NK6T5cWB3oZS",
    "outputId": "ef50855a-3aa2-409e-bcfa-4cfc0d37b3e9"
   },
   "outputs": [
    {
     "data": {
      "text/html": [
       "<div>\n",
       "<style scoped>\n",
       "    .dataframe tbody tr th:only-of-type {\n",
       "        vertical-align: middle;\n",
       "    }\n",
       "\n",
       "    .dataframe tbody tr th {\n",
       "        vertical-align: top;\n",
       "    }\n",
       "\n",
       "    .dataframe thead th {\n",
       "        text-align: right;\n",
       "    }\n",
       "</style>\n",
       "<table border=\"1\" class=\"dataframe\">\n",
       "  <thead>\n",
       "    <tr style=\"text-align: right;\">\n",
       "      <th></th>\n",
       "      <th>ID</th>\n",
       "      <th>Name</th>\n",
       "      <th>Category</th>\n",
       "      <th>Subcategory</th>\n",
       "      <th>Country</th>\n",
       "      <th>Launched</th>\n",
       "      <th>Deadline</th>\n",
       "      <th>Goal</th>\n",
       "      <th>Pledged</th>\n",
       "      <th>Backers</th>\n",
       "      <th>State</th>\n",
       "    </tr>\n",
       "  </thead>\n",
       "  <tbody>\n",
       "    <tr>\n",
       "      <th>0</th>\n",
       "      <td>1860890148</td>\n",
       "      <td>Grace Jones Does Not Give A F$#% T-Shirt (limi...</td>\n",
       "      <td>Fashion</td>\n",
       "      <td>Fashion</td>\n",
       "      <td>United States</td>\n",
       "      <td>2009-04-21 21:02:48</td>\n",
       "      <td>2009-05-31</td>\n",
       "      <td>1000</td>\n",
       "      <td>625</td>\n",
       "      <td>30</td>\n",
       "      <td>Failed</td>\n",
       "    </tr>\n",
       "    <tr>\n",
       "      <th>1</th>\n",
       "      <td>709707365</td>\n",
       "      <td>CRYSTAL ANTLERS UNTITLED MOVIE</td>\n",
       "      <td>Film &amp; Video</td>\n",
       "      <td>Shorts</td>\n",
       "      <td>United States</td>\n",
       "      <td>2009-04-23 00:07:53</td>\n",
       "      <td>2009-07-20</td>\n",
       "      <td>80000</td>\n",
       "      <td>22</td>\n",
       "      <td>3</td>\n",
       "      <td>Failed</td>\n",
       "    </tr>\n",
       "    <tr>\n",
       "      <th>2</th>\n",
       "      <td>1703704063</td>\n",
       "      <td>drawing for dollars</td>\n",
       "      <td>Art</td>\n",
       "      <td>Illustration</td>\n",
       "      <td>United States</td>\n",
       "      <td>2009-04-24 21:52:03</td>\n",
       "      <td>2009-05-03</td>\n",
       "      <td>20</td>\n",
       "      <td>35</td>\n",
       "      <td>3</td>\n",
       "      <td>Successful</td>\n",
       "    </tr>\n",
       "    <tr>\n",
       "      <th>3</th>\n",
       "      <td>727286</td>\n",
       "      <td>Offline Wikipedia iPhone app</td>\n",
       "      <td>Technology</td>\n",
       "      <td>Software</td>\n",
       "      <td>United States</td>\n",
       "      <td>2009-04-25 17:36:21</td>\n",
       "      <td>2009-07-14</td>\n",
       "      <td>99</td>\n",
       "      <td>145</td>\n",
       "      <td>25</td>\n",
       "      <td>Successful</td>\n",
       "    </tr>\n",
       "    <tr>\n",
       "      <th>4</th>\n",
       "      <td>1622952265</td>\n",
       "      <td>Pantshirts</td>\n",
       "      <td>Fashion</td>\n",
       "      <td>Fashion</td>\n",
       "      <td>United States</td>\n",
       "      <td>2009-04-27 14:10:39</td>\n",
       "      <td>2009-05-26</td>\n",
       "      <td>1900</td>\n",
       "      <td>387</td>\n",
       "      <td>10</td>\n",
       "      <td>Failed</td>\n",
       "    </tr>\n",
       "  </tbody>\n",
       "</table>\n",
       "</div>"
      ],
      "text/plain": [
       "           ID                                               Name  \\\n",
       "0  1860890148  Grace Jones Does Not Give A F$#% T-Shirt (limi...   \n",
       "1   709707365                     CRYSTAL ANTLERS UNTITLED MOVIE   \n",
       "2  1703704063                                drawing for dollars   \n",
       "3      727286                       Offline Wikipedia iPhone app   \n",
       "4  1622952265                                         Pantshirts   \n",
       "\n",
       "       Category   Subcategory        Country            Launched   Deadline  \\\n",
       "0       Fashion       Fashion  United States 2009-04-21 21:02:48 2009-05-31   \n",
       "1  Film & Video        Shorts  United States 2009-04-23 00:07:53 2009-07-20   \n",
       "2           Art  Illustration  United States 2009-04-24 21:52:03 2009-05-03   \n",
       "3    Technology      Software  United States 2009-04-25 17:36:21 2009-07-14   \n",
       "4       Fashion       Fashion  United States 2009-04-27 14:10:39 2009-05-26   \n",
       "\n",
       "    Goal  Pledged  Backers       State  \n",
       "0   1000      625       30      Failed  \n",
       "1  80000       22        3      Failed  \n",
       "2     20       35        3  Successful  \n",
       "3     99      145       25  Successful  \n",
       "4   1900      387       10      Failed  "
      ]
     },
     "execution_count": 3,
     "metadata": {},
     "output_type": "execute_result"
    }
   ],
   "source": [
    "#Checking what kind of data it is\n",
    "df.head()"
   ]
  },
  {
   "cell_type": "markdown",
   "metadata": {
    "id": "L77Im4nGjJog"
   },
   "source": [
    "### We'll start with Exploratory Data Analysis (EDA) to know the data and become one with it."
   ]
  },
  {
   "cell_type": "code",
   "execution_count": 4,
   "metadata": {
    "colab": {
     "base_uri": "https://localhost:8080/"
    },
    "id": "yNXfXrjm3-MV",
    "outputId": "00e93faf-78de-4a6d-a8d6-4e24002c78fd"
   },
   "outputs": [
    {
     "data": {
      "text/plain": [
       "ID             0\n",
       "Name           0\n",
       "Category       0\n",
       "Subcategory    0\n",
       "Country        0\n",
       "Launched       0\n",
       "Deadline       0\n",
       "Goal           0\n",
       "Pledged        0\n",
       "Backers        0\n",
       "State          0\n",
       "dtype: int64"
      ]
     },
     "execution_count": 4,
     "metadata": {},
     "output_type": "execute_result"
    }
   ],
   "source": [
    "#Checking null values\n",
    "df.isna().sum()"
   ]
  },
  {
   "cell_type": "code",
   "execution_count": 5,
   "metadata": {
    "colab": {
     "base_uri": "https://localhost:8080/"
    },
    "id": "SucB-UNm89tF",
    "outputId": "2192efc1-b7db-4e58-e8c8-caa22093a464"
   },
   "outputs": [
    {
     "data": {
      "text/plain": [
       "(374853, 11)"
      ]
     },
     "execution_count": 5,
     "metadata": {},
     "output_type": "execute_result"
    }
   ],
   "source": [
    "#Checking shape of the dataframe\n",
    "df.shape"
   ]
  },
  {
   "cell_type": "code",
   "execution_count": 6,
   "metadata": {
    "colab": {
     "base_uri": "https://localhost:8080/"
    },
    "id": "0T2uywmB9zU-",
    "outputId": "9a011269-4d5c-4b11-eba0-6059027fb675"
   },
   "outputs": [
    {
     "data": {
      "text/plain": [
       "Failed        197611\n",
       "Successful    133851\n",
       "Canceled       38751\n",
       "Live            2798\n",
       "Suspended       1842\n",
       "Name: State, dtype: int64"
      ]
     },
     "execution_count": 6,
     "metadata": {},
     "output_type": "execute_result"
    }
   ],
   "source": [
    "# Whether binary or multiclass classification prediction\n",
    "df['State'].value_counts()"
   ]
  },
  {
   "cell_type": "code",
   "execution_count": 7,
   "metadata": {
    "colab": {
     "base_uri": "https://localhost:8080/",
     "height": 1000
    },
    "id": "9ghdoL2TiUKG",
    "outputId": "920fff22-eeaf-4716-d6a6-fe51a7e00ad4"
   },
   "outputs": [
    {
     "data": {
      "image/png": "[encoded data removed]",
      "text/plain": [
       "<Figure size 432x288 with 1 Axes>"
      ]
     },
     "metadata": {},
     "output_type": "display_data"
    }
   ],
   "source": [
    "#pie chart\n",
    "# declaring data\n",
    "data = df['State'].value_counts()\n",
    "keys = df['State'].value_counts().keys().unique()\n",
    "  \n",
    "# define Seaborn color palette to use\n",
    "palette_color = sns.color_palette('bright')\n",
    "  \n",
    "# plotting data on chart\n",
    "plt.pie(data, labels=keys, colors=palette_color, autopct='%.0f%%',radius=2)\n",
    "  \n",
    "# displaying chart\n",
    "plt.show()\n"
   ]
  },
  {
   "cell_type": "markdown",
   "metadata": {
    "id": "Fb4VTWaXl6It"
   },
   "source": [
    "#### Above Pie chart reveals that majority of Kickstarter Projects were a failure which makes sense as majority of such projects tend to fail due to multiple reasons. Success rate is less then 35 percent"
   ]
  },
  {
   "cell_type": "code",
   "execution_count": 8,
   "metadata": {
    "colab": {
     "base_uri": "https://localhost:8080/",
     "height": 423
    },
    "id": "9P0bAs9L95pJ",
    "outputId": "dd4b4d9f-e759-441e-902f-bd83af6b43ee",
    "scrolled": true
   },
   "outputs": [
    {
     "data": {
      "image/png": "[encoded data removed]",
      "text/plain": [
       "<Figure size 720x432 with 1 Axes>"
      ]
     },
     "metadata": {
      "needs_background": "light"
     },
     "output_type": "display_data"
    }
   ],
   "source": [
    "df['Category'].value_counts().plot(figsize=(10,6),kind='bar')\n",
    "plt.xticks(rotation=45);"
   ]
  },
  {
   "cell_type": "markdown",
   "metadata": {
    "id": "JPWlCeZ6mQxh"
   },
   "source": [
    "### Above Bar Graph tells us that Films & Video, Music, Publishing, Games are top Projects which tend to get more funding then other category "
   ]
  },
  {
   "cell_type": "code",
   "execution_count": 9,
   "metadata": {
    "colab": {
     "base_uri": "https://localhost:8080/",
     "height": 300
    },
    "id": "qqlPNNhE-H4J",
    "outputId": "e5d87751-ad9e-4dc0-e7f9-f6a34d6f9f93"
   },
   "outputs": [
    {
     "data": {
      "text/html": [
       "<div>\n",
       "<style scoped>\n",
       "    .dataframe tbody tr th:only-of-type {\n",
       "        vertical-align: middle;\n",
       "    }\n",
       "\n",
       "    .dataframe tbody tr th {\n",
       "        vertical-align: top;\n",
       "    }\n",
       "\n",
       "    .dataframe thead th {\n",
       "        text-align: right;\n",
       "    }\n",
       "</style>\n",
       "<table border=\"1\" class=\"dataframe\">\n",
       "  <thead>\n",
       "    <tr style=\"text-align: right;\">\n",
       "      <th></th>\n",
       "      <th>ID</th>\n",
       "      <th>Goal</th>\n",
       "      <th>Pledged</th>\n",
       "      <th>Backers</th>\n",
       "    </tr>\n",
       "  </thead>\n",
       "  <tbody>\n",
       "    <tr>\n",
       "      <th>count</th>\n",
       "      <td>3.748530e+05</td>\n",
       "      <td>3.748530e+05</td>\n",
       "      <td>3.748530e+05</td>\n",
       "      <td>374853.000000</td>\n",
       "    </tr>\n",
       "    <tr>\n",
       "      <th>mean</th>\n",
       "      <td>1.074656e+09</td>\n",
       "      <td>4.586378e+04</td>\n",
       "      <td>9.121073e+03</td>\n",
       "      <td>106.690359</td>\n",
       "    </tr>\n",
       "    <tr>\n",
       "      <th>std</th>\n",
       "      <td>6.191377e+08</td>\n",
       "      <td>1.158778e+06</td>\n",
       "      <td>9.132054e+04</td>\n",
       "      <td>911.718520</td>\n",
       "    </tr>\n",
       "    <tr>\n",
       "      <th>min</th>\n",
       "      <td>5.971000e+03</td>\n",
       "      <td>0.000000e+00</td>\n",
       "      <td>0.000000e+00</td>\n",
       "      <td>0.000000</td>\n",
       "    </tr>\n",
       "    <tr>\n",
       "      <th>25%</th>\n",
       "      <td>5.380728e+08</td>\n",
       "      <td>2.000000e+03</td>\n",
       "      <td>3.100000e+01</td>\n",
       "      <td>2.000000</td>\n",
       "    </tr>\n",
       "    <tr>\n",
       "      <th>50%</th>\n",
       "      <td>1.075300e+09</td>\n",
       "      <td>5.500000e+03</td>\n",
       "      <td>6.250000e+02</td>\n",
       "      <td>12.000000</td>\n",
       "    </tr>\n",
       "    <tr>\n",
       "      <th>75%</th>\n",
       "      <td>1.610149e+09</td>\n",
       "      <td>1.600000e+04</td>\n",
       "      <td>4.051000e+03</td>\n",
       "      <td>57.000000</td>\n",
       "    </tr>\n",
       "    <tr>\n",
       "      <th>max</th>\n",
       "      <td>2.147476e+09</td>\n",
       "      <td>1.663614e+08</td>\n",
       "      <td>2.033899e+07</td>\n",
       "      <td>219382.000000</td>\n",
       "    </tr>\n",
       "  </tbody>\n",
       "</table>\n",
       "</div>"
      ],
      "text/plain": [
       "                 ID          Goal       Pledged        Backers\n",
       "count  3.748530e+05  3.748530e+05  3.748530e+05  374853.000000\n",
       "mean   1.074656e+09  4.586378e+04  9.121073e+03     106.690359\n",
       "std    6.191377e+08  1.158778e+06  9.132054e+04     911.718520\n",
       "min    5.971000e+03  0.000000e+00  0.000000e+00       0.000000\n",
       "25%    5.380728e+08  2.000000e+03  3.100000e+01       2.000000\n",
       "50%    1.075300e+09  5.500000e+03  6.250000e+02      12.000000\n",
       "75%    1.610149e+09  1.600000e+04  4.051000e+03      57.000000\n",
       "max    2.147476e+09  1.663614e+08  2.033899e+07  219382.000000"
      ]
     },
     "execution_count": 9,
     "metadata": {},
     "output_type": "execute_result"
    }
   ],
   "source": [
    "#Describing the data\n",
    "df.describe()"
   ]
  },
  {
   "cell_type": "code",
   "execution_count": 10,
   "metadata": {
    "colab": {
     "base_uri": "https://localhost:8080/"
    },
    "id": "ITFP3hz5_YqH",
    "outputId": "e6bc84eb-ac90-48e6-8b07-823cf5f1ef67"
   },
   "outputs": [
    {
     "name": "stdout",
     "output_type": "stream",
     "text": [
      "<class 'pandas.core.frame.DataFrame'>\n",
      "RangeIndex: 374853 entries, 0 to 374852\n",
      "Data columns (total 11 columns):\n",
      " #   Column       Non-Null Count   Dtype         \n",
      "---  ------       --------------   -----         \n",
      " 0   ID           374853 non-null  int64         \n",
      " 1   Name         374853 non-null  object        \n",
      " 2   Category     374853 non-null  object        \n",
      " 3   Subcategory  374853 non-null  object        \n",
      " 4   Country      374853 non-null  object        \n",
      " 5   Launched     374853 non-null  datetime64[ns]\n",
      " 6   Deadline     374853 non-null  datetime64[ns]\n",
      " 7   Goal         374853 non-null  int64         \n",
      " 8   Pledged      374853 non-null  int64         \n",
      " 9   Backers      374853 non-null  int64         \n",
      " 10  State        374853 non-null  object        \n",
      "dtypes: datetime64[ns](2), int64(4), object(5)\n",
      "memory usage: 31.5+ MB\n"
     ]
    }
   ],
   "source": [
    "#Let's check what datatype each column has\n",
    "df.info()"
   ]
  },
  {
   "cell_type": "markdown",
   "metadata": {
    "id": "TkJ_FWDfnHRI"
   },
   "source": [
    "### There are many columns which has object datatype which needs to be converted to category datatype which we'll handle soon."
   ]
  },
  {
   "cell_type": "code",
   "execution_count": 11,
   "metadata": {
    "colab": {
     "base_uri": "https://localhost:8080/",
     "height": 551
    },
    "id": "foyuNnBa_e60",
    "outputId": "81064a38-fa7d-4054-ed36-26875eb9bea8"
   },
   "outputs": [
    {
     "data": {
      "text/html": [
       "<div>\n",
       "<style scoped>\n",
       "    .dataframe tbody tr th:only-of-type {\n",
       "        vertical-align: middle;\n",
       "    }\n",
       "\n",
       "    .dataframe tbody tr th {\n",
       "        vertical-align: top;\n",
       "    }\n",
       "\n",
       "    .dataframe thead th {\n",
       "        text-align: right;\n",
       "    }\n",
       "</style>\n",
       "<table border=\"1\" class=\"dataframe\">\n",
       "  <thead>\n",
       "    <tr style=\"text-align: right;\">\n",
       "      <th>State</th>\n",
       "      <th>Canceled</th>\n",
       "      <th>Failed</th>\n",
       "      <th>Live</th>\n",
       "      <th>Successful</th>\n",
       "      <th>Suspended</th>\n",
       "    </tr>\n",
       "    <tr>\n",
       "      <th>Category</th>\n",
       "      <th></th>\n",
       "      <th></th>\n",
       "      <th></th>\n",
       "      <th></th>\n",
       "      <th></th>\n",
       "    </tr>\n",
       "  </thead>\n",
       "  <tbody>\n",
       "    <tr>\n",
       "      <th>Art</th>\n",
       "      <td>2221</td>\n",
       "      <td>14130</td>\n",
       "      <td>194</td>\n",
       "      <td>11510</td>\n",
       "      <td>96</td>\n",
       "    </tr>\n",
       "    <tr>\n",
       "      <th>Comics</th>\n",
       "      <td>842</td>\n",
       "      <td>4036</td>\n",
       "      <td>76</td>\n",
       "      <td>5842</td>\n",
       "      <td>23</td>\n",
       "    </tr>\n",
       "    <tr>\n",
       "      <th>Crafts</th>\n",
       "      <td>843</td>\n",
       "      <td>5703</td>\n",
       "      <td>76</td>\n",
       "      <td>2115</td>\n",
       "      <td>72</td>\n",
       "    </tr>\n",
       "    <tr>\n",
       "      <th>Dance</th>\n",
       "      <td>163</td>\n",
       "      <td>1235</td>\n",
       "      <td>18</td>\n",
       "      <td>2338</td>\n",
       "      <td>13</td>\n",
       "    </tr>\n",
       "    <tr>\n",
       "      <th>Design</th>\n",
       "      <td>4151</td>\n",
       "      <td>14814</td>\n",
       "      <td>305</td>\n",
       "      <td>10549</td>\n",
       "      <td>246</td>\n",
       "    </tr>\n",
       "    <tr>\n",
       "      <th>Fashion</th>\n",
       "      <td>2650</td>\n",
       "      <td>14181</td>\n",
       "      <td>250</td>\n",
       "      <td>5593</td>\n",
       "      <td>138</td>\n",
       "    </tr>\n",
       "    <tr>\n",
       "      <th>Film &amp; Video</th>\n",
       "      <td>5742</td>\n",
       "      <td>32891</td>\n",
       "      <td>332</td>\n",
       "      <td>23612</td>\n",
       "      <td>117</td>\n",
       "    </tr>\n",
       "    <tr>\n",
       "      <th>Food</th>\n",
       "      <td>2209</td>\n",
       "      <td>15969</td>\n",
       "      <td>183</td>\n",
       "      <td>6085</td>\n",
       "      <td>153</td>\n",
       "    </tr>\n",
       "    <tr>\n",
       "      <th>Games</th>\n",
       "      <td>6199</td>\n",
       "      <td>16002</td>\n",
       "      <td>287</td>\n",
       "      <td>12518</td>\n",
       "      <td>219</td>\n",
       "    </tr>\n",
       "    <tr>\n",
       "      <th>Journalism</th>\n",
       "      <td>523</td>\n",
       "      <td>3136</td>\n",
       "      <td>31</td>\n",
       "      <td>1012</td>\n",
       "      <td>52</td>\n",
       "    </tr>\n",
       "    <tr>\n",
       "      <th>Music</th>\n",
       "      <td>3299</td>\n",
       "      <td>21696</td>\n",
       "      <td>281</td>\n",
       "      <td>24105</td>\n",
       "      <td>148</td>\n",
       "    </tr>\n",
       "    <tr>\n",
       "      <th>Photography</th>\n",
       "      <td>986</td>\n",
       "      <td>6384</td>\n",
       "      <td>48</td>\n",
       "      <td>3305</td>\n",
       "      <td>55</td>\n",
       "    </tr>\n",
       "    <tr>\n",
       "      <th>Publishing</th>\n",
       "      <td>3601</td>\n",
       "      <td>23113</td>\n",
       "      <td>299</td>\n",
       "      <td>12300</td>\n",
       "      <td>65</td>\n",
       "    </tr>\n",
       "    <tr>\n",
       "      <th>Technology</th>\n",
       "      <td>4715</td>\n",
       "      <td>20613</td>\n",
       "      <td>377</td>\n",
       "      <td>6433</td>\n",
       "      <td>424</td>\n",
       "    </tr>\n",
       "    <tr>\n",
       "      <th>Theater</th>\n",
       "      <td>607</td>\n",
       "      <td>3708</td>\n",
       "      <td>41</td>\n",
       "      <td>6534</td>\n",
       "      <td>21</td>\n",
       "    </tr>\n",
       "  </tbody>\n",
       "</table>\n",
       "</div>"
      ],
      "text/plain": [
       "State         Canceled  Failed  Live  Successful  Suspended\n",
       "Category                                                   \n",
       "Art               2221   14130   194       11510         96\n",
       "Comics             842    4036    76        5842         23\n",
       "Crafts             843    5703    76        2115         72\n",
       "Dance              163    1235    18        2338         13\n",
       "Design            4151   14814   305       10549        246\n",
       "Fashion           2650   14181   250        5593        138\n",
       "Film & Video      5742   32891   332       23612        117\n",
       "Food              2209   15969   183        6085        153\n",
       "Games             6199   16002   287       12518        219\n",
       "Journalism         523    3136    31        1012         52\n",
       "Music             3299   21696   281       24105        148\n",
       "Photography        986    6384    48        3305         55\n",
       "Publishing        3601   23113   299       12300         65\n",
       "Technology        4715   20613   377        6433        424\n",
       "Theater            607    3708    41        6534         21"
      ]
     },
     "execution_count": 11,
     "metadata": {},
     "output_type": "execute_result"
    }
   ],
   "source": [
    "#Doing a crosstab between Category and State\n",
    "pd.crosstab(df['Category'],df['State'])"
   ]
  },
  {
   "cell_type": "code",
   "execution_count": 12,
   "metadata": {
    "colab": {
     "base_uri": "https://localhost:8080/",
     "height": 456
    },
    "id": "sOtdaFaKAcZA",
    "outputId": "6f40ae5a-8785-4853-e4dc-251c5c8927c6"
   },
   "outputs": [
    {
     "data": {
      "image/png": "[encoded data removed]",
      "text/plain": [
       "<Figure size 720x432 with 1 Axes>"
      ]
     },
     "metadata": {
      "needs_background": "light"
     },
     "output_type": "display_data"
    }
   ],
   "source": [
    "#Plotting a bar graph for the above crosstab \n",
    "fig, ax = plt.subplots(figsize=(10,6))\n",
    "pd.crosstab(df['Category'],df['State'],rownames=['Categories']).plot(kind='bar',ax=ax)\n",
    "ax.set(title=\"Project Status vs Category\",xlabel='Category',ylabel='State')\n",
    "plt.xticks(rotation=45);"
   ]
  },
  {
   "cell_type": "markdown",
   "metadata": {
    "id": "qX-HeHkcoKFW"
   },
   "source": [
    "### Above graph tells us that Category Films & Video get good funding yet there is always an uncertainly if it will fail or succeed as the graph states that fail to success ratio is 60:40 where as Music Category has 50-50 changes of make or break. "
   ]
  },
  {
   "cell_type": "code",
   "execution_count": 14,
   "metadata": {
    "colab": {
     "base_uri": "https://localhost:8080/"
    },
    "id": "yf4DrQ8wBW9a",
    "outputId": "bb2ae615-f274-4874-82cb-8603f4b8f85c"
   },
   "outputs": [
    {
     "data": {
      "text/plain": [
       "Index(['United States', 'United Kingdom', 'Canada', 'Australia', 'Germany',\n",
       "       'France', 'Italy', 'Netherlands ', 'Spain', 'Sweden', 'Mexico',\n",
       "       'New Zealand', 'Denmark', 'Ireland', 'Switzerland', 'Norway',\n",
       "       'Hong Kong', 'Belgium', 'Austria', 'Singapore', 'Luxembourg', 'Japan'],\n",
       "      dtype='object')"
      ]
     },
     "execution_count": 14,
     "metadata": {},
     "output_type": "execute_result"
    }
   ],
   "source": [
    "#Let's check countries unique values\n",
    "df['Country'].value_counts().keys().unique()"
   ]
  },
  {
   "cell_type": "code",
   "execution_count": 15,
   "metadata": {
    "colab": {
     "base_uri": "https://localhost:8080/"
    },
    "id": "yaWjx_iTBYzu",
    "outputId": "5438378c-b71e-4564-e152-3d64f3a67324"
   },
   "outputs": [
    {
     "data": {
      "text/plain": [
       "United States     292618\n",
       "United Kingdom     33671\n",
       "Canada             14756\n",
       "Australia           7839\n",
       "Germany             4171\n",
       "France              2939\n",
       "Italy               2878\n",
       "Netherlands         2868\n",
       "Spain               2276\n",
       "Sweden              1757\n",
       "Mexico              1752\n",
       "New Zealand         1447\n",
       "Denmark             1113\n",
       "Ireland              811\n",
       "Switzerland          760\n",
       "Norway               708\n",
       "Hong Kong            618\n",
       "Belgium              617\n",
       "Austria              597\n",
       "Singapore            555\n",
       "Luxembourg            62\n",
       "Japan                 40\n",
       "Name: Country, dtype: int64"
      ]
     },
     "execution_count": 15,
     "metadata": {},
     "output_type": "execute_result"
    }
   ],
   "source": [
    "# Let's check what each country values are\n",
    "df['Country'].value_counts()"
   ]
  },
  {
   "cell_type": "code",
   "execution_count": 16,
   "metadata": {
    "colab": {
     "base_uri": "https://localhost:8080/",
     "height": 578
    },
    "id": "vBjrvFsXqTZi",
    "outputId": "ab6aa3c2-c5ad-4364-dce8-3f61d52f2c14"
   },
   "outputs": [
    {
     "data": {
      "image/png": "[encoded data removed]",
      "text/plain": [
       "<Figure size 1440x576 with 1 Axes>"
      ]
     },
     "metadata": {},
     "output_type": "display_data"
    }
   ],
   "source": [
    "#Let's plot a count plot for our Country column\n",
    "sns.set(rc = {'figure.figsize':(20,8)})\n",
    "sns.countplot(x=\"Country\",data=df,color='darkorchid')\n",
    "plt.title(\"Country wise Count Plot\");\n",
    "plt.xlabel(\"Countries\");\n",
    "plt.ylabel(\"Count of Startups\");\n",
    "plt.xticks(rotation=45);"
   ]
  },
  {
   "cell_type": "markdown",
   "metadata": {
    "id": "eN4R7-DGq1Ce"
   },
   "source": [
    "### From the above bar graph, we can say the top KickStarter Projects producing countries are:\n",
    "\n",
    "  1. United States\n",
    "  2. United Kingdom\n",
    "  3. Canada\n",
    "  4. Australia\n",
    "  5.Germany"
   ]
  },
  {
   "cell_type": "code",
   "execution_count": 17,
   "metadata": {
    "colab": {
     "base_uri": "https://localhost:8080/",
     "height": 337
    },
    "id": "AF2rmeitSuXh",
    "outputId": "1c42c9b9-c6ac-45c6-f592-bf794d9444fd"
   },
   "outputs": [
    {
     "data": {
      "text/html": [
       "<div>\n",
       "<style scoped>\n",
       "    .dataframe tbody tr th:only-of-type {\n",
       "        vertical-align: middle;\n",
       "    }\n",
       "\n",
       "    .dataframe tbody tr th {\n",
       "        vertical-align: top;\n",
       "    }\n",
       "\n",
       "    .dataframe thead th {\n",
       "        text-align: right;\n",
       "    }\n",
       "</style>\n",
       "<table border=\"1\" class=\"dataframe\">\n",
       "  <thead>\n",
       "    <tr style=\"text-align: right;\">\n",
       "      <th></th>\n",
       "      <th>ID</th>\n",
       "      <th>Name</th>\n",
       "      <th>Category</th>\n",
       "      <th>Subcategory</th>\n",
       "      <th>Country</th>\n",
       "      <th>Launched</th>\n",
       "      <th>Deadline</th>\n",
       "      <th>Goal</th>\n",
       "      <th>Pledged</th>\n",
       "      <th>Backers</th>\n",
       "      <th>State</th>\n",
       "    </tr>\n",
       "  </thead>\n",
       "  <tbody>\n",
       "    <tr>\n",
       "      <th>0</th>\n",
       "      <td>1860890148</td>\n",
       "      <td>Grace Jones Does Not Give A F$#% T-Shirt (limi...</td>\n",
       "      <td>Fashion</td>\n",
       "      <td>Fashion</td>\n",
       "      <td>United States</td>\n",
       "      <td>2009-04-21 21:02:48</td>\n",
       "      <td>2009-05-31</td>\n",
       "      <td>1000</td>\n",
       "      <td>625</td>\n",
       "      <td>30</td>\n",
       "      <td>Failed</td>\n",
       "    </tr>\n",
       "    <tr>\n",
       "      <th>1</th>\n",
       "      <td>709707365</td>\n",
       "      <td>CRYSTAL ANTLERS UNTITLED MOVIE</td>\n",
       "      <td>Film &amp; Video</td>\n",
       "      <td>Shorts</td>\n",
       "      <td>United States</td>\n",
       "      <td>2009-04-23 00:07:53</td>\n",
       "      <td>2009-07-20</td>\n",
       "      <td>80000</td>\n",
       "      <td>22</td>\n",
       "      <td>3</td>\n",
       "      <td>Failed</td>\n",
       "    </tr>\n",
       "    <tr>\n",
       "      <th>2</th>\n",
       "      <td>1703704063</td>\n",
       "      <td>drawing for dollars</td>\n",
       "      <td>Art</td>\n",
       "      <td>Illustration</td>\n",
       "      <td>United States</td>\n",
       "      <td>2009-04-24 21:52:03</td>\n",
       "      <td>2009-05-03</td>\n",
       "      <td>20</td>\n",
       "      <td>35</td>\n",
       "      <td>3</td>\n",
       "      <td>Successful</td>\n",
       "    </tr>\n",
       "    <tr>\n",
       "      <th>3</th>\n",
       "      <td>727286</td>\n",
       "      <td>Offline Wikipedia iPhone app</td>\n",
       "      <td>Technology</td>\n",
       "      <td>Software</td>\n",
       "      <td>United States</td>\n",
       "      <td>2009-04-25 17:36:21</td>\n",
       "      <td>2009-07-14</td>\n",
       "      <td>99</td>\n",
       "      <td>145</td>\n",
       "      <td>25</td>\n",
       "      <td>Successful</td>\n",
       "    </tr>\n",
       "    <tr>\n",
       "      <th>4</th>\n",
       "      <td>1622952265</td>\n",
       "      <td>Pantshirts</td>\n",
       "      <td>Fashion</td>\n",
       "      <td>Fashion</td>\n",
       "      <td>United States</td>\n",
       "      <td>2009-04-27 14:10:39</td>\n",
       "      <td>2009-05-26</td>\n",
       "      <td>1900</td>\n",
       "      <td>387</td>\n",
       "      <td>10</td>\n",
       "      <td>Failed</td>\n",
       "    </tr>\n",
       "  </tbody>\n",
       "</table>\n",
       "</div>"
      ],
      "text/plain": [
       "           ID                                               Name  \\\n",
       "0  1860890148  Grace Jones Does Not Give A F$#% T-Shirt (limi...   \n",
       "1   709707365                     CRYSTAL ANTLERS UNTITLED MOVIE   \n",
       "2  1703704063                                drawing for dollars   \n",
       "3      727286                       Offline Wikipedia iPhone app   \n",
       "4  1622952265                                         Pantshirts   \n",
       "\n",
       "       Category   Subcategory        Country            Launched   Deadline  \\\n",
       "0       Fashion       Fashion  United States 2009-04-21 21:02:48 2009-05-31   \n",
       "1  Film & Video        Shorts  United States 2009-04-23 00:07:53 2009-07-20   \n",
       "2           Art  Illustration  United States 2009-04-24 21:52:03 2009-05-03   \n",
       "3    Technology      Software  United States 2009-04-25 17:36:21 2009-07-14   \n",
       "4       Fashion       Fashion  United States 2009-04-27 14:10:39 2009-05-26   \n",
       "\n",
       "    Goal  Pledged  Backers       State  \n",
       "0   1000      625       30      Failed  \n",
       "1  80000       22        3      Failed  \n",
       "2     20       35        3  Successful  \n",
       "3     99      145       25  Successful  \n",
       "4   1900      387       10      Failed  "
      ]
     },
     "execution_count": 17,
     "metadata": {},
     "output_type": "execute_result"
    }
   ],
   "source": [
    "df.head()"
   ]
  },
  {
   "cell_type": "markdown",
   "metadata": {
    "id": "5jzaxj6w3gTS"
   },
   "source": [
    "###We we find the amount given to the Projects(Pledged) and Project Requirement(Goal) %"
   ]
  },
  {
   "cell_type": "code",
   "execution_count": 18,
   "metadata": {
    "id": "Aixm9mbR1YAn"
   },
   "outputs": [],
   "source": [
    "df['GoalCompletionPercent'] = df['Pledged']/df['Goal']"
   ]
  },
  {
   "cell_type": "code",
   "execution_count": 19,
   "metadata": {
    "colab": {
     "base_uri": "https://localhost:8080/"
    },
    "id": "FZRbyaLUIu3u",
    "outputId": "280f7086-81e8-4a20-89a9-2f066dd54558"
   },
   "outputs": [
    {
     "data": {
      "text/plain": [
       "0         0.625000\n",
       "1         0.000275\n",
       "2         1.750000\n",
       "3         1.464646\n",
       "4         0.203684\n",
       "            ...   \n",
       "374848    0.000000\n",
       "374849    0.017933\n",
       "374850    0.016500\n",
       "374851    0.010769\n",
       "374852    0.184683\n",
       "Name: GoalCompletionPercent, Length: 374853, dtype: float64"
      ]
     },
     "execution_count": 19,
     "metadata": {},
     "output_type": "execute_result"
    }
   ],
   "source": [
    "df['GoalCompletionPercent'] = df['GoalCompletionPercent'].fillna(0)\n",
    "df['GoalCompletionPercent'].astype('int', errors='ignore')"
   ]
  },
  {
   "cell_type": "code",
   "execution_count": 20,
   "metadata": {
    "colab": {
     "base_uri": "https://localhost:8080/",
     "height": 337
    },
    "id": "hT7esre31par",
    "outputId": "f0da5dc3-9cf7-49e5-d4ea-d7e9c63d1cd4"
   },
   "outputs": [
    {
     "data": {
      "text/html": [
       "<div>\n",
       "<style scoped>\n",
       "    .dataframe tbody tr th:only-of-type {\n",
       "        vertical-align: middle;\n",
       "    }\n",
       "\n",
       "    .dataframe tbody tr th {\n",
       "        vertical-align: top;\n",
       "    }\n",
       "\n",
       "    .dataframe thead th {\n",
       "        text-align: right;\n",
       "    }\n",
       "</style>\n",
       "<table border=\"1\" class=\"dataframe\">\n",
       "  <thead>\n",
       "    <tr style=\"text-align: right;\">\n",
       "      <th></th>\n",
       "      <th>ID</th>\n",
       "      <th>Name</th>\n",
       "      <th>Category</th>\n",
       "      <th>Subcategory</th>\n",
       "      <th>Country</th>\n",
       "      <th>Launched</th>\n",
       "      <th>Deadline</th>\n",
       "      <th>Goal</th>\n",
       "      <th>Pledged</th>\n",
       "      <th>Backers</th>\n",
       "      <th>State</th>\n",
       "      <th>GoalCompletionPercent</th>\n",
       "    </tr>\n",
       "  </thead>\n",
       "  <tbody>\n",
       "    <tr>\n",
       "      <th>0</th>\n",
       "      <td>1860890148</td>\n",
       "      <td>Grace Jones Does Not Give A F$#% T-Shirt (limi...</td>\n",
       "      <td>Fashion</td>\n",
       "      <td>Fashion</td>\n",
       "      <td>United States</td>\n",
       "      <td>2009-04-21 21:02:48</td>\n",
       "      <td>2009-05-31</td>\n",
       "      <td>1000</td>\n",
       "      <td>625</td>\n",
       "      <td>30</td>\n",
       "      <td>Failed</td>\n",
       "      <td>0.625000</td>\n",
       "    </tr>\n",
       "    <tr>\n",
       "      <th>1</th>\n",
       "      <td>709707365</td>\n",
       "      <td>CRYSTAL ANTLERS UNTITLED MOVIE</td>\n",
       "      <td>Film &amp; Video</td>\n",
       "      <td>Shorts</td>\n",
       "      <td>United States</td>\n",
       "      <td>2009-04-23 00:07:53</td>\n",
       "      <td>2009-07-20</td>\n",
       "      <td>80000</td>\n",
       "      <td>22</td>\n",
       "      <td>3</td>\n",
       "      <td>Failed</td>\n",
       "      <td>0.000275</td>\n",
       "    </tr>\n",
       "    <tr>\n",
       "      <th>2</th>\n",
       "      <td>1703704063</td>\n",
       "      <td>drawing for dollars</td>\n",
       "      <td>Art</td>\n",
       "      <td>Illustration</td>\n",
       "      <td>United States</td>\n",
       "      <td>2009-04-24 21:52:03</td>\n",
       "      <td>2009-05-03</td>\n",
       "      <td>20</td>\n",
       "      <td>35</td>\n",
       "      <td>3</td>\n",
       "      <td>Successful</td>\n",
       "      <td>1.750000</td>\n",
       "    </tr>\n",
       "    <tr>\n",
       "      <th>3</th>\n",
       "      <td>727286</td>\n",
       "      <td>Offline Wikipedia iPhone app</td>\n",
       "      <td>Technology</td>\n",
       "      <td>Software</td>\n",
       "      <td>United States</td>\n",
       "      <td>2009-04-25 17:36:21</td>\n",
       "      <td>2009-07-14</td>\n",
       "      <td>99</td>\n",
       "      <td>145</td>\n",
       "      <td>25</td>\n",
       "      <td>Successful</td>\n",
       "      <td>1.464646</td>\n",
       "    </tr>\n",
       "    <tr>\n",
       "      <th>4</th>\n",
       "      <td>1622952265</td>\n",
       "      <td>Pantshirts</td>\n",
       "      <td>Fashion</td>\n",
       "      <td>Fashion</td>\n",
       "      <td>United States</td>\n",
       "      <td>2009-04-27 14:10:39</td>\n",
       "      <td>2009-05-26</td>\n",
       "      <td>1900</td>\n",
       "      <td>387</td>\n",
       "      <td>10</td>\n",
       "      <td>Failed</td>\n",
       "      <td>0.203684</td>\n",
       "    </tr>\n",
       "  </tbody>\n",
       "</table>\n",
       "</div>"
      ],
      "text/plain": [
       "           ID                                               Name  \\\n",
       "0  1860890148  Grace Jones Does Not Give A F$#% T-Shirt (limi...   \n",
       "1   709707365                     CRYSTAL ANTLERS UNTITLED MOVIE   \n",
       "2  1703704063                                drawing for dollars   \n",
       "3      727286                       Offline Wikipedia iPhone app   \n",
       "4  1622952265                                         Pantshirts   \n",
       "\n",
       "       Category   Subcategory        Country            Launched   Deadline  \\\n",
       "0       Fashion       Fashion  United States 2009-04-21 21:02:48 2009-05-31   \n",
       "1  Film & Video        Shorts  United States 2009-04-23 00:07:53 2009-07-20   \n",
       "2           Art  Illustration  United States 2009-04-24 21:52:03 2009-05-03   \n",
       "3    Technology      Software  United States 2009-04-25 17:36:21 2009-07-14   \n",
       "4       Fashion       Fashion  United States 2009-04-27 14:10:39 2009-05-26   \n",
       "\n",
       "    Goal  Pledged  Backers       State  GoalCompletionPercent  \n",
       "0   1000      625       30      Failed               0.625000  \n",
       "1  80000       22        3      Failed               0.000275  \n",
       "2     20       35        3  Successful               1.750000  \n",
       "3     99      145       25  Successful               1.464646  \n",
       "4   1900      387       10      Failed               0.203684  "
      ]
     },
     "execution_count": 20,
     "metadata": {},
     "output_type": "execute_result"
    }
   ],
   "source": [
    "df.head()"
   ]
  },
  {
   "cell_type": "code",
   "execution_count": 21,
   "metadata": {
    "colab": {
     "base_uri": "https://localhost:8080/",
     "height": 946
    },
    "id": "OO8d5kr-07jR",
    "outputId": "78255b4b-2f03-4624-decf-a15000992b04"
   },
   "outputs": [
    {
     "data": {
      "text/html": [
       "<div>\n",
       "<style scoped>\n",
       "    .dataframe tbody tr th:only-of-type {\n",
       "        vertical-align: middle;\n",
       "    }\n",
       "\n",
       "    .dataframe tbody tr th {\n",
       "        vertical-align: top;\n",
       "    }\n",
       "\n",
       "    .dataframe thead th {\n",
       "        text-align: right;\n",
       "    }\n",
       "</style>\n",
       "<table border=\"1\" class=\"dataframe\">\n",
       "  <thead>\n",
       "    <tr style=\"text-align: right;\">\n",
       "      <th></th>\n",
       "      <th>ID</th>\n",
       "      <th>Name</th>\n",
       "      <th>Category</th>\n",
       "      <th>Subcategory</th>\n",
       "      <th>Country</th>\n",
       "      <th>Launched</th>\n",
       "      <th>Deadline</th>\n",
       "      <th>Goal</th>\n",
       "      <th>Pledged</th>\n",
       "      <th>Backers</th>\n",
       "      <th>State</th>\n",
       "      <th>GoalCompletionPercent</th>\n",
       "    </tr>\n",
       "  </thead>\n",
       "  <tbody>\n",
       "    <tr>\n",
       "      <th>300416</th>\n",
       "      <td>902659872</td>\n",
       "      <td>Pokie Pack! A \"stylish\" solution to a very dra...</td>\n",
       "      <td>Design</td>\n",
       "      <td>Product Design</td>\n",
       "      <td>United States</td>\n",
       "      <td>2016-07-26 16:52:29</td>\n",
       "      <td>2016-08-03</td>\n",
       "      <td>12686</td>\n",
       "      <td>360</td>\n",
       "      <td>11</td>\n",
       "      <td>Failed</td>\n",
       "      <td>0.028378</td>\n",
       "    </tr>\n",
       "    <tr>\n",
       "      <th>373726</th>\n",
       "      <td>458555343</td>\n",
       "      <td>Creating a coffee revolution, a coffee virtual...</td>\n",
       "      <td>Technology</td>\n",
       "      <td>Technology</td>\n",
       "      <td>United Kingdom</td>\n",
       "      <td>2017-12-16 00:39:32</td>\n",
       "      <td>2018-01-15</td>\n",
       "      <td>13640</td>\n",
       "      <td>0</td>\n",
       "      <td>0</td>\n",
       "      <td>Canceled</td>\n",
       "      <td>0.000000</td>\n",
       "    </tr>\n",
       "    <tr>\n",
       "      <th>244333</th>\n",
       "      <td>2121735870</td>\n",
       "      <td>Restoration of the Canticle of Brother Sun and...</td>\n",
       "      <td>Art</td>\n",
       "      <td>Painting</td>\n",
       "      <td>Italy</td>\n",
       "      <td>2015-08-28 12:37:19</td>\n",
       "      <td>2015-09-30</td>\n",
       "      <td>3906</td>\n",
       "      <td>11</td>\n",
       "      <td>1</td>\n",
       "      <td>Failed</td>\n",
       "      <td>0.002816</td>\n",
       "    </tr>\n",
       "    <tr>\n",
       "      <th>274966</th>\n",
       "      <td>612766880</td>\n",
       "      <td>NDWK The North Dakota Wine Kitchen</td>\n",
       "      <td>Food</td>\n",
       "      <td>Small Batch</td>\n",
       "      <td>United States</td>\n",
       "      <td>2016-02-23 15:27:36</td>\n",
       "      <td>2016-03-24</td>\n",
       "      <td>23000</td>\n",
       "      <td>23530</td>\n",
       "      <td>124</td>\n",
       "      <td>Successful</td>\n",
       "      <td>1.023043</td>\n",
       "    </tr>\n",
       "    <tr>\n",
       "      <th>24415</th>\n",
       "      <td>1372488133</td>\n",
       "      <td>Blood Makes the Green Grass Grow – finishing f...</td>\n",
       "      <td>Film &amp; Video</td>\n",
       "      <td>Narrative Film</td>\n",
       "      <td>United States</td>\n",
       "      <td>2011-07-06 00:31:24</td>\n",
       "      <td>2011-08-20</td>\n",
       "      <td>11000</td>\n",
       "      <td>11449</td>\n",
       "      <td>81</td>\n",
       "      <td>Successful</td>\n",
       "      <td>1.040818</td>\n",
       "    </tr>\n",
       "    <tr>\n",
       "      <th>267064</th>\n",
       "      <td>174729105</td>\n",
       "      <td>Snausages- a short film about love for a dog</td>\n",
       "      <td>Film &amp; Video</td>\n",
       "      <td>Shorts</td>\n",
       "      <td>United States</td>\n",
       "      <td>2016-01-08 03:40:14</td>\n",
       "      <td>2016-01-30</td>\n",
       "      <td>1210</td>\n",
       "      <td>1220</td>\n",
       "      <td>25</td>\n",
       "      <td>Successful</td>\n",
       "      <td>1.008264</td>\n",
       "    </tr>\n",
       "    <tr>\n",
       "      <th>102140</th>\n",
       "      <td>1452732909</td>\n",
       "      <td>FLASH.IT: Light the Way at Burning Man 2013</td>\n",
       "      <td>Art</td>\n",
       "      <td>Public Art</td>\n",
       "      <td>United States</td>\n",
       "      <td>2013-07-03 18:03:15</td>\n",
       "      <td>2013-08-03</td>\n",
       "      <td>9000</td>\n",
       "      <td>9235</td>\n",
       "      <td>160</td>\n",
       "      <td>Successful</td>\n",
       "      <td>1.026111</td>\n",
       "    </tr>\n",
       "    <tr>\n",
       "      <th>23130</th>\n",
       "      <td>1542261853</td>\n",
       "      <td>Absolution (Canceled)</td>\n",
       "      <td>Film &amp; Video</td>\n",
       "      <td>Webseries</td>\n",
       "      <td>United States</td>\n",
       "      <td>2011-06-17 23:37:25</td>\n",
       "      <td>2011-08-16</td>\n",
       "      <td>10000</td>\n",
       "      <td>432</td>\n",
       "      <td>6</td>\n",
       "      <td>Canceled</td>\n",
       "      <td>0.043200</td>\n",
       "    </tr>\n",
       "    <tr>\n",
       "      <th>162222</th>\n",
       "      <td>1198213686</td>\n",
       "      <td>Get Off My Lawn Music Video</td>\n",
       "      <td>Film &amp; Video</td>\n",
       "      <td>Music Videos</td>\n",
       "      <td>Australia</td>\n",
       "      <td>2014-08-06 13:56:31</td>\n",
       "      <td>2014-09-05</td>\n",
       "      <td>4683</td>\n",
       "      <td>5</td>\n",
       "      <td>1</td>\n",
       "      <td>Failed</td>\n",
       "      <td>0.001068</td>\n",
       "    </tr>\n",
       "    <tr>\n",
       "      <th>289500</th>\n",
       "      <td>1255080779</td>\n",
       "      <td>Don't We All Love HORROR Stories ... (Canceled)</td>\n",
       "      <td>Publishing</td>\n",
       "      <td>Fiction</td>\n",
       "      <td>Germany</td>\n",
       "      <td>2016-05-17 02:56:33</td>\n",
       "      <td>2016-05-31</td>\n",
       "      <td>5577</td>\n",
       "      <td>0</td>\n",
       "      <td>0</td>\n",
       "      <td>Canceled</td>\n",
       "      <td>0.000000</td>\n",
       "    </tr>\n",
       "    <tr>\n",
       "      <th>143690</th>\n",
       "      <td>581825066</td>\n",
       "      <td>Anime Tea Host Cafe</td>\n",
       "      <td>Food</td>\n",
       "      <td>Restaurants</td>\n",
       "      <td>United States</td>\n",
       "      <td>2014-05-22 21:21:23</td>\n",
       "      <td>2014-06-21</td>\n",
       "      <td>25000</td>\n",
       "      <td>57</td>\n",
       "      <td>5</td>\n",
       "      <td>Failed</td>\n",
       "      <td>0.002280</td>\n",
       "    </tr>\n",
       "    <tr>\n",
       "      <th>250599</th>\n",
       "      <td>1992010172</td>\n",
       "      <td>Bamboo</td>\n",
       "      <td>Art</td>\n",
       "      <td>Art</td>\n",
       "      <td>Italy</td>\n",
       "      <td>2015-09-30 21:03:14</td>\n",
       "      <td>2015-10-30</td>\n",
       "      <td>44068</td>\n",
       "      <td>50</td>\n",
       "      <td>2</td>\n",
       "      <td>Failed</td>\n",
       "      <td>0.001135</td>\n",
       "    </tr>\n",
       "    <tr>\n",
       "      <th>334793</th>\n",
       "      <td>978614087</td>\n",
       "      <td>National Storm Center</td>\n",
       "      <td>Journalism</td>\n",
       "      <td>Video</td>\n",
       "      <td>United States</td>\n",
       "      <td>2017-03-22 22:06:26</td>\n",
       "      <td>2017-05-21</td>\n",
       "      <td>10000</td>\n",
       "      <td>0</td>\n",
       "      <td>0</td>\n",
       "      <td>Failed</td>\n",
       "      <td>0.000000</td>\n",
       "    </tr>\n",
       "    <tr>\n",
       "      <th>159999</th>\n",
       "      <td>1512333429</td>\n",
       "      <td>Chi-Cho Sauce is Taking Over the World</td>\n",
       "      <td>Food</td>\n",
       "      <td>Small Batch</td>\n",
       "      <td>United States</td>\n",
       "      <td>2014-07-30 01:22:38</td>\n",
       "      <td>2014-09-13</td>\n",
       "      <td>8003</td>\n",
       "      <td>8667</td>\n",
       "      <td>112</td>\n",
       "      <td>Successful</td>\n",
       "      <td>1.082969</td>\n",
       "    </tr>\n",
       "    <tr>\n",
       "      <th>358830</th>\n",
       "      <td>618993227</td>\n",
       "      <td>The First Japanese Delicacy Poster Across 42 C...</td>\n",
       "      <td>Design</td>\n",
       "      <td>Graphic Design</td>\n",
       "      <td>United States</td>\n",
       "      <td>2017-09-03 23:35:51</td>\n",
       "      <td>2017-10-04</td>\n",
       "      <td>3000</td>\n",
       "      <td>5788</td>\n",
       "      <td>138</td>\n",
       "      <td>Successful</td>\n",
       "      <td>1.929333</td>\n",
       "    </tr>\n",
       "  </tbody>\n",
       "</table>\n",
       "</div>"
      ],
      "text/plain": [
       "                ID                                               Name  \\\n",
       "300416   902659872  Pokie Pack! A \"stylish\" solution to a very dra...   \n",
       "373726   458555343  Creating a coffee revolution, a coffee virtual...   \n",
       "244333  2121735870  Restoration of the Canticle of Brother Sun and...   \n",
       "274966   612766880                 NDWK The North Dakota Wine Kitchen   \n",
       "24415   1372488133  Blood Makes the Green Grass Grow – finishing f...   \n",
       "267064   174729105       Snausages- a short film about love for a dog   \n",
       "102140  1452732909        FLASH.IT: Light the Way at Burning Man 2013   \n",
       "23130   1542261853                              Absolution (Canceled)   \n",
       "162222  1198213686                        Get Off My Lawn Music Video   \n",
       "289500  1255080779    Don't We All Love HORROR Stories ... (Canceled)   \n",
       "143690   581825066                                Anime Tea Host Cafe   \n",
       "250599  1992010172                                             Bamboo   \n",
       "334793   978614087                              National Storm Center   \n",
       "159999  1512333429             Chi-Cho Sauce is Taking Over the World   \n",
       "358830   618993227  The First Japanese Delicacy Poster Across 42 C...   \n",
       "\n",
       "            Category     Subcategory         Country            Launched  \\\n",
       "300416        Design  Product Design   United States 2016-07-26 16:52:29   \n",
       "373726    Technology      Technology  United Kingdom 2017-12-16 00:39:32   \n",
       "244333           Art        Painting           Italy 2015-08-28 12:37:19   \n",
       "274966          Food     Small Batch   United States 2016-02-23 15:27:36   \n",
       "24415   Film & Video  Narrative Film   United States 2011-07-06 00:31:24   \n",
       "267064  Film & Video          Shorts   United States 2016-01-08 03:40:14   \n",
       "102140           Art      Public Art   United States 2013-07-03 18:03:15   \n",
       "23130   Film & Video       Webseries   United States 2011-06-17 23:37:25   \n",
       "162222  Film & Video    Music Videos       Australia 2014-08-06 13:56:31   \n",
       "289500    Publishing         Fiction         Germany 2016-05-17 02:56:33   \n",
       "143690          Food     Restaurants   United States 2014-05-22 21:21:23   \n",
       "250599           Art             Art           Italy 2015-09-30 21:03:14   \n",
       "334793    Journalism           Video   United States 2017-03-22 22:06:26   \n",
       "159999          Food     Small Batch   United States 2014-07-30 01:22:38   \n",
       "358830        Design  Graphic Design   United States 2017-09-03 23:35:51   \n",
       "\n",
       "         Deadline   Goal  Pledged  Backers       State  GoalCompletionPercent  \n",
       "300416 2016-08-03  12686      360       11      Failed               0.028378  \n",
       "373726 2018-01-15  13640        0        0    Canceled               0.000000  \n",
       "244333 2015-09-30   3906       11        1      Failed               0.002816  \n",
       "274966 2016-03-24  23000    23530      124  Successful               1.023043  \n",
       "24415  2011-08-20  11000    11449       81  Successful               1.040818  \n",
       "267064 2016-01-30   1210     1220       25  Successful               1.008264  \n",
       "102140 2013-08-03   9000     9235      160  Successful               1.026111  \n",
       "23130  2011-08-16  10000      432        6    Canceled               0.043200  \n",
       "162222 2014-09-05   4683        5        1      Failed               0.001068  \n",
       "289500 2016-05-31   5577        0        0    Canceled               0.000000  \n",
       "143690 2014-06-21  25000       57        5      Failed               0.002280  \n",
       "250599 2015-10-30  44068       50        2      Failed               0.001135  \n",
       "334793 2017-05-21  10000        0        0      Failed               0.000000  \n",
       "159999 2014-09-13   8003     8667      112  Successful               1.082969  \n",
       "358830 2017-10-04   3000     5788      138  Successful               1.929333  "
      ]
     },
     "execution_count": 21,
     "metadata": {},
     "output_type": "execute_result"
    }
   ],
   "source": [
    "dfg = df.loc[(df['Goal']>1000)]\n",
    "dfg.sample(15)"
   ]
  },
  {
   "cell_type": "code",
   "execution_count": 22,
   "metadata": {
    "colab": {
     "base_uri": "https://localhost:8080/",
     "height": 520
    },
    "id": "KhpZjxlZ8oQp",
    "outputId": "2cf2edfa-5526-45e8-f886-2b92152565a3"
   },
   "outputs": [
    {
     "data": {
      "text/html": [
       "<div>\n",
       "<style scoped>\n",
       "    .dataframe tbody tr th:only-of-type {\n",
       "        vertical-align: middle;\n",
       "    }\n",
       "\n",
       "    .dataframe tbody tr th {\n",
       "        vertical-align: top;\n",
       "    }\n",
       "\n",
       "    .dataframe thead th {\n",
       "        text-align: right;\n",
       "    }\n",
       "</style>\n",
       "<table border=\"1\" class=\"dataframe\">\n",
       "  <thead>\n",
       "    <tr style=\"text-align: right;\">\n",
       "      <th></th>\n",
       "      <th>Category</th>\n",
       "      <th>GoalCompletionPercent</th>\n",
       "    </tr>\n",
       "  </thead>\n",
       "  <tbody>\n",
       "    <tr>\n",
       "      <th>6</th>\n",
       "      <td>Film &amp; Video</td>\n",
       "      <td>54144</td>\n",
       "    </tr>\n",
       "    <tr>\n",
       "      <th>10</th>\n",
       "      <td>Music</td>\n",
       "      <td>40593</td>\n",
       "    </tr>\n",
       "    <tr>\n",
       "      <th>12</th>\n",
       "      <td>Publishing</td>\n",
       "      <td>32826</td>\n",
       "    </tr>\n",
       "    <tr>\n",
       "      <th>13</th>\n",
       "      <td>Technology</td>\n",
       "      <td>30316</td>\n",
       "    </tr>\n",
       "    <tr>\n",
       "      <th>8</th>\n",
       "      <td>Games</td>\n",
       "      <td>30102</td>\n",
       "    </tr>\n",
       "    <tr>\n",
       "      <th>4</th>\n",
       "      <td>Design</td>\n",
       "      <td>27052</td>\n",
       "    </tr>\n",
       "    <tr>\n",
       "      <th>7</th>\n",
       "      <td>Food</td>\n",
       "      <td>21498</td>\n",
       "    </tr>\n",
       "    <tr>\n",
       "      <th>0</th>\n",
       "      <td>Art</td>\n",
       "      <td>19884</td>\n",
       "    </tr>\n",
       "    <tr>\n",
       "      <th>5</th>\n",
       "      <td>Fashion</td>\n",
       "      <td>18976</td>\n",
       "    </tr>\n",
       "    <tr>\n",
       "      <th>14</th>\n",
       "      <td>Theater</td>\n",
       "      <td>8852</td>\n",
       "    </tr>\n",
       "    <tr>\n",
       "      <th>11</th>\n",
       "      <td>Photography</td>\n",
       "      <td>8598</td>\n",
       "    </tr>\n",
       "    <tr>\n",
       "      <th>1</th>\n",
       "      <td>Comics</td>\n",
       "      <td>8455</td>\n",
       "    </tr>\n",
       "    <tr>\n",
       "      <th>2</th>\n",
       "      <td>Crafts</td>\n",
       "      <td>5670</td>\n",
       "    </tr>\n",
       "    <tr>\n",
       "      <th>9</th>\n",
       "      <td>Journalism</td>\n",
       "      <td>3828</td>\n",
       "    </tr>\n",
       "    <tr>\n",
       "      <th>3</th>\n",
       "      <td>Dance</td>\n",
       "      <td>3169</td>\n",
       "    </tr>\n",
       "  </tbody>\n",
       "</table>\n",
       "</div>"
      ],
      "text/plain": [
       "        Category  GoalCompletionPercent\n",
       "6   Film & Video                  54144\n",
       "10         Music                  40593\n",
       "12    Publishing                  32826\n",
       "13    Technology                  30316\n",
       "8          Games                  30102\n",
       "4         Design                  27052\n",
       "7           Food                  21498\n",
       "0            Art                  19884\n",
       "5        Fashion                  18976\n",
       "14       Theater                   8852\n",
       "11   Photography                   8598\n",
       "1         Comics                   8455\n",
       "2         Crafts                   5670\n",
       "9     Journalism                   3828\n",
       "3          Dance                   3169"
      ]
     },
     "execution_count": 22,
     "metadata": {},
     "output_type": "execute_result"
    }
   ],
   "source": [
    "dfg.groupby(['Category'])['GoalCompletionPercent'].aggregate('count').reset_index().sort_values('GoalCompletionPercent', ascending=False)\n",
    "#aggregate can be changed to max, min, sum"
   ]
  },
  {
   "cell_type": "markdown",
   "metadata": {
    "id": "LcBp9RKm9qH0"
   },
   "source": [
    "###We can state that Project which were funded above $1000 that have high success rate are Film & Video, Music and Publishing"
   ]
  },
  {
   "cell_type": "markdown",
   "metadata": {
    "id": "mfyxfBmuo_el"
   },
   "source": [
    "###ID and Name columns do not any value to the dataset and moreover our classification may find unwanted patterns which could affect the accuracy. Let's Drop them"
   ]
  },
  {
   "cell_type": "code",
   "execution_count": 23,
   "metadata": {
    "id": "rHCCASUNpakU"
   },
   "outputs": [],
   "source": [
    "df.drop('Name', axis=1, inplace=True)\n",
    "df.drop('ID', axis=1, inplace=True)"
   ]
  },
  {
   "cell_type": "code",
   "execution_count": 24,
   "metadata": {
    "colab": {
     "base_uri": "https://localhost:8080/"
    },
    "id": "SXpYeHyJS-Jv",
    "outputId": "e4ef01bc-9f98-42e4-85ec-49e008203a4a"
   },
   "outputs": [
    {
     "name": "stdout",
     "output_type": "stream",
     "text": [
      "['Category', 'Subcategory', 'Country', 'State']\n"
     ]
    }
   ],
   "source": [
    "#Let's check which all columns have object type\n",
    "string_columns = []\n",
    "for column,content in df.items():\n",
    "    if pd.api.types.is_string_dtype(content):\n",
    "        string_columns.append(column)\n",
    "print(string_columns)"
   ]
  },
  {
   "cell_type": "code",
   "execution_count": 25,
   "metadata": {
    "id": "9fpZWnxWTFZJ"
   },
   "outputs": [],
   "source": [
    "#Let's convert all above columns into categorical\n",
    "for column,content in df.items():\n",
    "    if pd.api.types.is_string_dtype(content):\n",
    "        df[column]= content.astype('category')"
   ]
  },
  {
   "cell_type": "code",
   "execution_count": 26,
   "metadata": {
    "colab": {
     "base_uri": "https://localhost:8080/"
    },
    "id": "ftCDTUMoTPEA",
    "outputId": "b9a6cb0b-246f-4489-e485-cb643fc6a05c"
   },
   "outputs": [
    {
     "name": "stdout",
     "output_type": "stream",
     "text": [
      "<class 'pandas.core.frame.DataFrame'>\n",
      "RangeIndex: 374853 entries, 0 to 374852\n",
      "Data columns (total 10 columns):\n",
      " #   Column                 Non-Null Count   Dtype         \n",
      "---  ------                 --------------   -----         \n",
      " 0   Category               374853 non-null  category      \n",
      " 1   Subcategory            374853 non-null  category      \n",
      " 2   Country                374853 non-null  category      \n",
      " 3   Launched               374853 non-null  datetime64[ns]\n",
      " 4   Deadline               374853 non-null  datetime64[ns]\n",
      " 5   Goal                   374853 non-null  int64         \n",
      " 6   Pledged                374853 non-null  int64         \n",
      " 7   Backers                374853 non-null  int64         \n",
      " 8   State                  374853 non-null  category      \n",
      " 9   GoalCompletionPercent  374853 non-null  float64       \n",
      "dtypes: category(4), datetime64[ns](2), float64(1), int64(3)\n",
      "memory usage: 19.0 MB\n"
     ]
    }
   ],
   "source": [
    "#Now we have converted object to category datatype\n",
    "df.info()"
   ]
  },
  {
   "cell_type": "code",
   "execution_count": 27,
   "metadata": {
    "colab": {
     "base_uri": "https://localhost:8080/",
     "height": 363
    },
    "id": "HwfSvs6ZrbY5",
    "outputId": "574b9439-afc2-4c31-ec90-83222d46993b"
   },
   "outputs": [
    {
     "data": {
      "text/html": [
       "<div>\n",
       "<style scoped>\n",
       "    .dataframe tbody tr th:only-of-type {\n",
       "        vertical-align: middle;\n",
       "    }\n",
       "\n",
       "    .dataframe tbody tr th {\n",
       "        vertical-align: top;\n",
       "    }\n",
       "\n",
       "    .dataframe thead th {\n",
       "        text-align: right;\n",
       "    }\n",
       "</style>\n",
       "<table border=\"1\" class=\"dataframe\">\n",
       "  <thead>\n",
       "    <tr style=\"text-align: right;\">\n",
       "      <th></th>\n",
       "      <th>Category</th>\n",
       "      <th>Subcategory</th>\n",
       "      <th>Country</th>\n",
       "      <th>Launched</th>\n",
       "      <th>Deadline</th>\n",
       "      <th>Goal</th>\n",
       "      <th>Pledged</th>\n",
       "      <th>Backers</th>\n",
       "      <th>State</th>\n",
       "      <th>GoalCompletionPercent</th>\n",
       "    </tr>\n",
       "  </thead>\n",
       "  <tbody>\n",
       "    <tr>\n",
       "      <th>6940</th>\n",
       "      <td>Film &amp; Video</td>\n",
       "      <td>Documentary</td>\n",
       "      <td>United States</td>\n",
       "      <td>2010-08-26 02:15:43</td>\n",
       "      <td>2010-10-01</td>\n",
       "      <td>2100</td>\n",
       "      <td>2200</td>\n",
       "      <td>65</td>\n",
       "      <td>Successful</td>\n",
       "      <td>1.047619</td>\n",
       "    </tr>\n",
       "    <tr>\n",
       "      <th>168910</th>\n",
       "      <td>Technology</td>\n",
       "      <td>Software</td>\n",
       "      <td>United States</td>\n",
       "      <td>2014-09-04 18:54:07</td>\n",
       "      <td>2014-10-04</td>\n",
       "      <td>1500</td>\n",
       "      <td>0</td>\n",
       "      <td>0</td>\n",
       "      <td>Failed</td>\n",
       "      <td>0.000000</td>\n",
       "    </tr>\n",
       "    <tr>\n",
       "      <th>225449</th>\n",
       "      <td>Technology</td>\n",
       "      <td>Gadgets</td>\n",
       "      <td>Germany</td>\n",
       "      <td>2015-05-26 08:02:22</td>\n",
       "      <td>2015-06-24</td>\n",
       "      <td>156828</td>\n",
       "      <td>20538</td>\n",
       "      <td>132</td>\n",
       "      <td>Failed</td>\n",
       "      <td>0.130959</td>\n",
       "    </tr>\n",
       "    <tr>\n",
       "      <th>326982</th>\n",
       "      <td>Technology</td>\n",
       "      <td>Makerspaces</td>\n",
       "      <td>Mexico</td>\n",
       "      <td>2017-02-01 00:07:38</td>\n",
       "      <td>2017-02-25</td>\n",
       "      <td>23400</td>\n",
       "      <td>0</td>\n",
       "      <td>0</td>\n",
       "      <td>Failed</td>\n",
       "      <td>0.000000</td>\n",
       "    </tr>\n",
       "    <tr>\n",
       "      <th>187877</th>\n",
       "      <td>Art</td>\n",
       "      <td>Public Art</td>\n",
       "      <td>United Kingdom</td>\n",
       "      <td>2014-12-04 20:30:59</td>\n",
       "      <td>2015-02-02</td>\n",
       "      <td>6127</td>\n",
       "      <td>6127</td>\n",
       "      <td>48</td>\n",
       "      <td>Successful</td>\n",
       "      <td>1.000000</td>\n",
       "    </tr>\n",
       "    <tr>\n",
       "      <th>114499</th>\n",
       "      <td>Photography</td>\n",
       "      <td>Photography</td>\n",
       "      <td>United States</td>\n",
       "      <td>2013-10-12 03:58:36</td>\n",
       "      <td>2013-11-11</td>\n",
       "      <td>5000</td>\n",
       "      <td>20</td>\n",
       "      <td>1</td>\n",
       "      <td>Failed</td>\n",
       "      <td>0.004000</td>\n",
       "    </tr>\n",
       "    <tr>\n",
       "      <th>120289</th>\n",
       "      <td>Photography</td>\n",
       "      <td>Photography</td>\n",
       "      <td>United States</td>\n",
       "      <td>2013-11-22 19:59:16</td>\n",
       "      <td>2014-01-21</td>\n",
       "      <td>150000</td>\n",
       "      <td>0</td>\n",
       "      <td>0</td>\n",
       "      <td>Canceled</td>\n",
       "      <td>0.000000</td>\n",
       "    </tr>\n",
       "    <tr>\n",
       "      <th>74307</th>\n",
       "      <td>Comics</td>\n",
       "      <td>Comics</td>\n",
       "      <td>United States</td>\n",
       "      <td>2012-11-06 04:21:25</td>\n",
       "      <td>2012-12-13</td>\n",
       "      <td>7500</td>\n",
       "      <td>2005</td>\n",
       "      <td>50</td>\n",
       "      <td>Failed</td>\n",
       "      <td>0.267333</td>\n",
       "    </tr>\n",
       "    <tr>\n",
       "      <th>295636</th>\n",
       "      <td>Fashion</td>\n",
       "      <td>Accessories</td>\n",
       "      <td>United States</td>\n",
       "      <td>2016-06-23 02:06:36</td>\n",
       "      <td>2016-06-30</td>\n",
       "      <td>10000</td>\n",
       "      <td>81</td>\n",
       "      <td>3</td>\n",
       "      <td>Failed</td>\n",
       "      <td>0.008100</td>\n",
       "    </tr>\n",
       "    <tr>\n",
       "      <th>153229</th>\n",
       "      <td>Photography</td>\n",
       "      <td>Photobooks</td>\n",
       "      <td>United States</td>\n",
       "      <td>2014-07-10 23:13:19</td>\n",
       "      <td>2014-07-28</td>\n",
       "      <td>200</td>\n",
       "      <td>10</td>\n",
       "      <td>2</td>\n",
       "      <td>Failed</td>\n",
       "      <td>0.050000</td>\n",
       "    </tr>\n",
       "  </tbody>\n",
       "</table>\n",
       "</div>"
      ],
      "text/plain": [
       "            Category  Subcategory         Country            Launched  \\\n",
       "6940    Film & Video  Documentary   United States 2010-08-26 02:15:43   \n",
       "168910    Technology     Software   United States 2014-09-04 18:54:07   \n",
       "225449    Technology      Gadgets         Germany 2015-05-26 08:02:22   \n",
       "326982    Technology  Makerspaces          Mexico 2017-02-01 00:07:38   \n",
       "187877           Art   Public Art  United Kingdom 2014-12-04 20:30:59   \n",
       "114499   Photography  Photography   United States 2013-10-12 03:58:36   \n",
       "120289   Photography  Photography   United States 2013-11-22 19:59:16   \n",
       "74307         Comics       Comics   United States 2012-11-06 04:21:25   \n",
       "295636       Fashion  Accessories   United States 2016-06-23 02:06:36   \n",
       "153229   Photography   Photobooks   United States 2014-07-10 23:13:19   \n",
       "\n",
       "         Deadline    Goal  Pledged  Backers       State  GoalCompletionPercent  \n",
       "6940   2010-10-01    2100     2200       65  Successful               1.047619  \n",
       "168910 2014-10-04    1500        0        0      Failed               0.000000  \n",
       "225449 2015-06-24  156828    20538      132      Failed               0.130959  \n",
       "326982 2017-02-25   23400        0        0      Failed               0.000000  \n",
       "187877 2015-02-02    6127     6127       48  Successful               1.000000  \n",
       "114499 2013-11-11    5000       20        1      Failed               0.004000  \n",
       "120289 2014-01-21  150000        0        0    Canceled               0.000000  \n",
       "74307  2012-12-13    7500     2005       50      Failed               0.267333  \n",
       "295636 2016-06-30   10000       81        3      Failed               0.008100  \n",
       "153229 2014-07-28     200       10        2      Failed               0.050000  "
      ]
     },
     "execution_count": 27,
     "metadata": {},
     "output_type": "execute_result"
    }
   ],
   "source": [
    "df.sample(10)"
   ]
  },
  {
   "cell_type": "markdown",
   "metadata": {
    "id": "7BE8J4hNpUzI"
   },
   "source": [
    "### We need to split dates into Year, Month, Day, DayofWeek, DayofYear component so that model finds appropriate patterns "
   ]
  },
  {
   "cell_type": "code",
   "execution_count": 28,
   "metadata": {
    "colab": {
     "base_uri": "https://localhost:8080/"
    },
    "id": "FUSjb3spp48V",
    "outputId": "1c10ff7c-38ad-4ec2-a40d-10ebf139d615"
   },
   "outputs": [
    {
     "data": {
      "text/plain": [
       "0    2009\n",
       "Name: Launched, dtype: int64"
      ]
     },
     "execution_count": 28,
     "metadata": {},
     "output_type": "execute_result"
    }
   ],
   "source": [
    "#to get year component\n",
    "df.Launched.dt.year[:1]"
   ]
  },
  {
   "cell_type": "code",
   "execution_count": 29,
   "metadata": {
    "colab": {
     "base_uri": "https://localhost:8080/"
    },
    "id": "050n5mFHqASC",
    "outputId": "7bb46bdd-7246-4b15-915e-ff086fdd61d5"
   },
   "outputs": [
    {
     "data": {
      "text/plain": [
       "0    2009\n",
       "Name: Deadline, dtype: int64"
      ]
     },
     "execution_count": 29,
     "metadata": {},
     "output_type": "execute_result"
    }
   ],
   "source": [
    "df.Deadline.dt.year[:1]"
   ]
  },
  {
   "cell_type": "markdown",
   "metadata": {
    "id": "qIFc2buTqRiO"
   },
   "source": [
    "###Adding year,month,day,dayofweek,dayofyear to df and Launched and Deadline columns"
   ]
  },
  {
   "cell_type": "code",
   "execution_count": 30,
   "metadata": {
    "id": "dnfXP6oXqMh-"
   },
   "outputs": [],
   "source": [
    "df['Launch_year'] = df.Launched.dt.year\n",
    "df['Launch_month'] = df.Launched.dt.month\n",
    "df['Launch_day']= df.Launched.dt.day\n",
    "df['Launch_dayofweek']= df.Launched.dt.day_of_week\n",
    "df['Launch_dayofyear']= df.Launched.dt.day_of_year"
   ]
  },
  {
   "cell_type": "code",
   "execution_count": 31,
   "metadata": {
    "id": "YZmUH5vQq9Pr"
   },
   "outputs": [],
   "source": [
    "df['Deadline_year'] = df.Deadline.dt.year\n",
    "df['Deadline_month'] = df.Deadline.dt.month\n",
    "df['Deadline_day']= df.Deadline.dt.day\n",
    "df['Deadline_dayofweek']= df.Deadline.dt.day_of_week\n",
    "df['Deadline_dayofyear']= df.Deadline.dt.day_of_year"
   ]
  },
  {
   "cell_type": "code",
   "execution_count": 32,
   "metadata": {
    "id": "R4CryyAerNZI"
   },
   "outputs": [],
   "source": [
    "#dropping the Launched and Deadline component has we have already splitted it into individual component\n",
    "df.drop('Launched',axis=1,inplace=True)\n",
    "df.drop('Deadline',axis=1,inplace=True)"
   ]
  },
  {
   "cell_type": "code",
   "execution_count": 33,
   "metadata": {
    "colab": {
     "base_uri": "https://localhost:8080/",
     "height": 357
    },
    "id": "HDJwlsJRrbBv",
    "outputId": "925435b7-a8ed-4465-e10b-7f870ea768a6"
   },
   "outputs": [
    {
     "data": {
      "text/html": [
       "<div>\n",
       "<style scoped>\n",
       "    .dataframe tbody tr th:only-of-type {\n",
       "        vertical-align: middle;\n",
       "    }\n",
       "\n",
       "    .dataframe tbody tr th {\n",
       "        vertical-align: top;\n",
       "    }\n",
       "\n",
       "    .dataframe thead th {\n",
       "        text-align: right;\n",
       "    }\n",
       "</style>\n",
       "<table border=\"1\" class=\"dataframe\">\n",
       "  <thead>\n",
       "    <tr style=\"text-align: right;\">\n",
       "      <th></th>\n",
       "      <th>Category</th>\n",
       "      <th>Subcategory</th>\n",
       "      <th>Country</th>\n",
       "      <th>Goal</th>\n",
       "      <th>Pledged</th>\n",
       "      <th>Backers</th>\n",
       "      <th>State</th>\n",
       "      <th>GoalCompletionPercent</th>\n",
       "      <th>Launch_year</th>\n",
       "      <th>Launch_month</th>\n",
       "      <th>Launch_day</th>\n",
       "      <th>Launch_dayofweek</th>\n",
       "      <th>Launch_dayofyear</th>\n",
       "      <th>Deadline_year</th>\n",
       "      <th>Deadline_month</th>\n",
       "      <th>Deadline_day</th>\n",
       "      <th>Deadline_dayofweek</th>\n",
       "      <th>Deadline_dayofyear</th>\n",
       "    </tr>\n",
       "  </thead>\n",
       "  <tbody>\n",
       "    <tr>\n",
       "      <th>0</th>\n",
       "      <td>Fashion</td>\n",
       "      <td>Fashion</td>\n",
       "      <td>United States</td>\n",
       "      <td>1000</td>\n",
       "      <td>625</td>\n",
       "      <td>30</td>\n",
       "      <td>Failed</td>\n",
       "      <td>0.625000</td>\n",
       "      <td>2009</td>\n",
       "      <td>4</td>\n",
       "      <td>21</td>\n",
       "      <td>1</td>\n",
       "      <td>111</td>\n",
       "      <td>2009</td>\n",
       "      <td>5</td>\n",
       "      <td>31</td>\n",
       "      <td>6</td>\n",
       "      <td>151</td>\n",
       "    </tr>\n",
       "    <tr>\n",
       "      <th>1</th>\n",
       "      <td>Film &amp; Video</td>\n",
       "      <td>Shorts</td>\n",
       "      <td>United States</td>\n",
       "      <td>80000</td>\n",
       "      <td>22</td>\n",
       "      <td>3</td>\n",
       "      <td>Failed</td>\n",
       "      <td>0.000275</td>\n",
       "      <td>2009</td>\n",
       "      <td>4</td>\n",
       "      <td>23</td>\n",
       "      <td>3</td>\n",
       "      <td>113</td>\n",
       "      <td>2009</td>\n",
       "      <td>7</td>\n",
       "      <td>20</td>\n",
       "      <td>0</td>\n",
       "      <td>201</td>\n",
       "    </tr>\n",
       "    <tr>\n",
       "      <th>2</th>\n",
       "      <td>Art</td>\n",
       "      <td>Illustration</td>\n",
       "      <td>United States</td>\n",
       "      <td>20</td>\n",
       "      <td>35</td>\n",
       "      <td>3</td>\n",
       "      <td>Successful</td>\n",
       "      <td>1.750000</td>\n",
       "      <td>2009</td>\n",
       "      <td>4</td>\n",
       "      <td>24</td>\n",
       "      <td>4</td>\n",
       "      <td>114</td>\n",
       "      <td>2009</td>\n",
       "      <td>5</td>\n",
       "      <td>3</td>\n",
       "      <td>6</td>\n",
       "      <td>123</td>\n",
       "    </tr>\n",
       "    <tr>\n",
       "      <th>3</th>\n",
       "      <td>Technology</td>\n",
       "      <td>Software</td>\n",
       "      <td>United States</td>\n",
       "      <td>99</td>\n",
       "      <td>145</td>\n",
       "      <td>25</td>\n",
       "      <td>Successful</td>\n",
       "      <td>1.464646</td>\n",
       "      <td>2009</td>\n",
       "      <td>4</td>\n",
       "      <td>25</td>\n",
       "      <td>5</td>\n",
       "      <td>115</td>\n",
       "      <td>2009</td>\n",
       "      <td>7</td>\n",
       "      <td>14</td>\n",
       "      <td>1</td>\n",
       "      <td>195</td>\n",
       "    </tr>\n",
       "    <tr>\n",
       "      <th>4</th>\n",
       "      <td>Fashion</td>\n",
       "      <td>Fashion</td>\n",
       "      <td>United States</td>\n",
       "      <td>1900</td>\n",
       "      <td>387</td>\n",
       "      <td>10</td>\n",
       "      <td>Failed</td>\n",
       "      <td>0.203684</td>\n",
       "      <td>2009</td>\n",
       "      <td>4</td>\n",
       "      <td>27</td>\n",
       "      <td>0</td>\n",
       "      <td>117</td>\n",
       "      <td>2009</td>\n",
       "      <td>5</td>\n",
       "      <td>26</td>\n",
       "      <td>1</td>\n",
       "      <td>146</td>\n",
       "    </tr>\n",
       "  </tbody>\n",
       "</table>\n",
       "</div>"
      ],
      "text/plain": [
       "       Category   Subcategory        Country   Goal  Pledged  Backers  \\\n",
       "0       Fashion       Fashion  United States   1000      625       30   \n",
       "1  Film & Video        Shorts  United States  80000       22        3   \n",
       "2           Art  Illustration  United States     20       35        3   \n",
       "3    Technology      Software  United States     99      145       25   \n",
       "4       Fashion       Fashion  United States   1900      387       10   \n",
       "\n",
       "        State  GoalCompletionPercent  Launch_year  Launch_month  Launch_day  \\\n",
       "0      Failed               0.625000         2009             4          21   \n",
       "1      Failed               0.000275         2009             4          23   \n",
       "2  Successful               1.750000         2009             4          24   \n",
       "3  Successful               1.464646         2009             4          25   \n",
       "4      Failed               0.203684         2009             4          27   \n",
       "\n",
       "   Launch_dayofweek  Launch_dayofyear  Deadline_year  Deadline_month  \\\n",
       "0                 1               111           2009               5   \n",
       "1                 3               113           2009               7   \n",
       "2                 4               114           2009               5   \n",
       "3                 5               115           2009               7   \n",
       "4                 0               117           2009               5   \n",
       "\n",
       "   Deadline_day  Deadline_dayofweek  Deadline_dayofyear  \n",
       "0            31                   6                 151  \n",
       "1            20                   0                 201  \n",
       "2             3                   6                 123  \n",
       "3            14                   1                 195  \n",
       "4            26                   1                 146  "
      ]
     },
     "execution_count": 33,
     "metadata": {},
     "output_type": "execute_result"
    }
   ],
   "source": [
    "df.head()"
   ]
  },
  {
   "cell_type": "code",
   "execution_count": 34,
   "metadata": {
    "colab": {
     "base_uri": "https://localhost:8080/"
    },
    "id": "w9gdTw26t1RG",
    "outputId": "0c64bb60-9f8b-4222-bca0-daebb30d0c43"
   },
   "outputs": [
    {
     "data": {
      "text/plain": [
       "Int64Index([2015, 2014, 2016, 2017, 2013, 2012, 2011, 2010, 2009, 2018], dtype='int64')"
      ]
     },
     "execution_count": 34,
     "metadata": {},
     "output_type": "execute_result"
    }
   ],
   "source": [
    "df['Launch_year'].value_counts().keys().unique()"
   ]
  },
  {
   "cell_type": "code",
   "execution_count": 35,
   "metadata": {
    "colab": {
     "base_uri": "https://localhost:8080/"
    },
    "id": "8zXCBbpluHWN",
    "outputId": "7814ab53-1ce7-41f9-896a-621bde9cd9ac"
   },
   "outputs": [
    {
     "data": {
      "text/plain": [
       "2015    74919\n",
       "2014    66993\n",
       "2016    56536\n",
       "2017    52200\n",
       "2013    44836\n",
       "2012    41161\n",
       "2011    26236\n",
       "2010    10519\n",
       "2009     1329\n",
       "2018      124\n",
       "Name: Launch_year, dtype: int64"
      ]
     },
     "execution_count": 35,
     "metadata": {},
     "output_type": "execute_result"
    }
   ],
   "source": [
    "df['Launch_year'].value_counts()"
   ]
  },
  {
   "cell_type": "code",
   "execution_count": 36,
   "metadata": {
    "colab": {
     "base_uri": "https://localhost:8080/",
     "height": 518
    },
    "id": "9js7n7vM-63I",
    "outputId": "21631903-09d2-4335-ff9d-f6f3e10ba218"
   },
   "outputs": [
    {
     "data": {
      "image/png": "[encoded data removed]",
      "text/plain": [
       "<Figure size 1440x576 with 1 Axes>"
      ]
     },
     "metadata": {},
     "output_type": "display_data"
    }
   ],
   "source": [
    "x = df['GoalCompletionPercent']\n",
    "y = df['Launch_year']\n",
    "plt.plot(x, y)\n",
    "plt.xlabel(\"Goal Completion\")  # add X-axis label\n",
    "plt.ylabel(\"Years\")  # add Y-axis label\n",
    "plt.title(\"Goal Completion Vs Years\")  # add title\n",
    "plt.show()"
   ]
  },
  {
   "cell_type": "code",
   "execution_count": 37,
   "metadata": {
    "id": "M-nUy8X1LBng"
   },
   "outputs": [],
   "source": [
    "df.drop('GoalCompletionPercent',axis=1,inplace=True)"
   ]
  },
  {
   "cell_type": "markdown",
   "metadata": {
    "id": "QKJN42FKAszb"
   },
   "source": [
    "### From above Graph, we can say that the period after 2013 was certainly a boom for the Kickstarter Projects as Success of get funds increased Expontentially until 2017"
   ]
  },
  {
   "cell_type": "markdown",
   "metadata": {
    "id": "ZHE5sSEjbJGS"
   },
   "source": [
    "### Adding .codes to Categorical value will convert it into int values."
   ]
  },
  {
   "cell_type": "code",
   "execution_count": 38,
   "metadata": {
    "colab": {
     "base_uri": "https://localhost:8080/"
    },
    "id": "XoKHUJXVmpry",
    "outputId": "cb967480-1f76-4776-9d66-26619fb22a1e"
   },
   "outputs": [
    {
     "name": "stdout",
     "output_type": "stream",
     "text": [
      "<class 'pandas.core.frame.DataFrame'>\n",
      "RangeIndex: 374853 entries, 0 to 374852\n",
      "Data columns (total 17 columns):\n",
      " #   Column              Non-Null Count   Dtype   \n",
      "---  ------              --------------   -----   \n",
      " 0   Category            374853 non-null  category\n",
      " 1   Subcategory         374853 non-null  category\n",
      " 2   Country             374853 non-null  category\n",
      " 3   Goal                374853 non-null  int64   \n",
      " 4   Pledged             374853 non-null  int64   \n",
      " 5   Backers             374853 non-null  int64   \n",
      " 6   State               374853 non-null  category\n",
      " 7   Launch_year         374853 non-null  int64   \n",
      " 8   Launch_month        374853 non-null  int64   \n",
      " 9   Launch_day          374853 non-null  int64   \n",
      " 10  Launch_dayofweek    374853 non-null  int64   \n",
      " 11  Launch_dayofyear    374853 non-null  int64   \n",
      " 12  Deadline_year       374853 non-null  int64   \n",
      " 13  Deadline_month      374853 non-null  int64   \n",
      " 14  Deadline_day        374853 non-null  int64   \n",
      " 15  Deadline_dayofweek  374853 non-null  int64   \n",
      " 16  Deadline_dayofyear  374853 non-null  int64   \n",
      "dtypes: category(4), int64(13)\n",
      "memory usage: 39.0 MB\n"
     ]
    }
   ],
   "source": [
    "df.info()"
   ]
  },
  {
   "cell_type": "code",
   "execution_count": 39,
   "metadata": {
    "colab": {
     "base_uri": "https://localhost:8080/",
     "height": 583
    },
    "id": "A4h98d3-muxo",
    "outputId": "fdeb2eec-79cb-435b-ca80-338bba451aad"
   },
   "outputs": [
    {
     "data": {
      "text/html": [
       "<div>\n",
       "<style scoped>\n",
       "    .dataframe tbody tr th:only-of-type {\n",
       "        vertical-align: middle;\n",
       "    }\n",
       "\n",
       "    .dataframe tbody tr th {\n",
       "        vertical-align: top;\n",
       "    }\n",
       "\n",
       "    .dataframe thead th {\n",
       "        text-align: right;\n",
       "    }\n",
       "</style>\n",
       "<table border=\"1\" class=\"dataframe\">\n",
       "  <thead>\n",
       "    <tr style=\"text-align: right;\">\n",
       "      <th></th>\n",
       "      <th>Category</th>\n",
       "      <th>Subcategory</th>\n",
       "      <th>Country</th>\n",
       "      <th>Goal</th>\n",
       "      <th>Pledged</th>\n",
       "      <th>Backers</th>\n",
       "      <th>State</th>\n",
       "      <th>Launch_year</th>\n",
       "      <th>Launch_month</th>\n",
       "      <th>Launch_day</th>\n",
       "      <th>Launch_dayofweek</th>\n",
       "      <th>Launch_dayofyear</th>\n",
       "      <th>Deadline_year</th>\n",
       "      <th>Deadline_month</th>\n",
       "      <th>Deadline_day</th>\n",
       "      <th>Deadline_dayofweek</th>\n",
       "      <th>Deadline_dayofyear</th>\n",
       "    </tr>\n",
       "  </thead>\n",
       "  <tbody>\n",
       "    <tr>\n",
       "      <th>297887</th>\n",
       "      <td>Technology</td>\n",
       "      <td>Technology</td>\n",
       "      <td>Canada</td>\n",
       "      <td>192678</td>\n",
       "      <td>15</td>\n",
       "      <td>2</td>\n",
       "      <td>Failed</td>\n",
       "      <td>2016</td>\n",
       "      <td>7</td>\n",
       "      <td>8</td>\n",
       "      <td>4</td>\n",
       "      <td>190</td>\n",
       "      <td>2016</td>\n",
       "      <td>8</td>\n",
       "      <td>7</td>\n",
       "      <td>6</td>\n",
       "      <td>220</td>\n",
       "    </tr>\n",
       "    <tr>\n",
       "      <th>256052</th>\n",
       "      <td>Film &amp; Video</td>\n",
       "      <td>Film &amp; Video</td>\n",
       "      <td>United States</td>\n",
       "      <td>65000</td>\n",
       "      <td>2395</td>\n",
       "      <td>11</td>\n",
       "      <td>Failed</td>\n",
       "      <td>2015</td>\n",
       "      <td>10</td>\n",
       "      <td>29</td>\n",
       "      <td>3</td>\n",
       "      <td>302</td>\n",
       "      <td>2015</td>\n",
       "      <td>12</td>\n",
       "      <td>28</td>\n",
       "      <td>0</td>\n",
       "      <td>362</td>\n",
       "    </tr>\n",
       "    <tr>\n",
       "      <th>28027</th>\n",
       "      <td>Comics</td>\n",
       "      <td>Comics</td>\n",
       "      <td>United States</td>\n",
       "      <td>3724</td>\n",
       "      <td>3944</td>\n",
       "      <td>83</td>\n",
       "      <td>Successful</td>\n",
       "      <td>2011</td>\n",
       "      <td>8</td>\n",
       "      <td>21</td>\n",
       "      <td>6</td>\n",
       "      <td>233</td>\n",
       "      <td>2011</td>\n",
       "      <td>9</td>\n",
       "      <td>20</td>\n",
       "      <td>1</td>\n",
       "      <td>263</td>\n",
       "    </tr>\n",
       "    <tr>\n",
       "      <th>29914</th>\n",
       "      <td>Film &amp; Video</td>\n",
       "      <td>Film &amp; Video</td>\n",
       "      <td>United States</td>\n",
       "      <td>30000</td>\n",
       "      <td>1857</td>\n",
       "      <td>16</td>\n",
       "      <td>Failed</td>\n",
       "      <td>2011</td>\n",
       "      <td>9</td>\n",
       "      <td>16</td>\n",
       "      <td>4</td>\n",
       "      <td>259</td>\n",
       "      <td>2011</td>\n",
       "      <td>11</td>\n",
       "      <td>15</td>\n",
       "      <td>1</td>\n",
       "      <td>319</td>\n",
       "    </tr>\n",
       "    <tr>\n",
       "      <th>315311</th>\n",
       "      <td>Music</td>\n",
       "      <td>Pop</td>\n",
       "      <td>Spain</td>\n",
       "      <td>1</td>\n",
       "      <td>214</td>\n",
       "      <td>8</td>\n",
       "      <td>Successful</td>\n",
       "      <td>2016</td>\n",
       "      <td>11</td>\n",
       "      <td>4</td>\n",
       "      <td>4</td>\n",
       "      <td>309</td>\n",
       "      <td>2016</td>\n",
       "      <td>12</td>\n",
       "      <td>14</td>\n",
       "      <td>2</td>\n",
       "      <td>349</td>\n",
       "    </tr>\n",
       "    <tr>\n",
       "      <th>81726</th>\n",
       "      <td>Publishing</td>\n",
       "      <td>Nonfiction</td>\n",
       "      <td>United States</td>\n",
       "      <td>3000</td>\n",
       "      <td>35</td>\n",
       "      <td>1</td>\n",
       "      <td>Failed</td>\n",
       "      <td>2013</td>\n",
       "      <td>1</td>\n",
       "      <td>25</td>\n",
       "      <td>4</td>\n",
       "      <td>25</td>\n",
       "      <td>2013</td>\n",
       "      <td>2</td>\n",
       "      <td>24</td>\n",
       "      <td>6</td>\n",
       "      <td>55</td>\n",
       "    </tr>\n",
       "    <tr>\n",
       "      <th>366755</th>\n",
       "      <td>Technology</td>\n",
       "      <td>Wearables</td>\n",
       "      <td>United States</td>\n",
       "      <td>30000</td>\n",
       "      <td>0</td>\n",
       "      <td>0</td>\n",
       "      <td>Failed</td>\n",
       "      <td>2017</td>\n",
       "      <td>10</td>\n",
       "      <td>27</td>\n",
       "      <td>4</td>\n",
       "      <td>300</td>\n",
       "      <td>2017</td>\n",
       "      <td>11</td>\n",
       "      <td>26</td>\n",
       "      <td>6</td>\n",
       "      <td>330</td>\n",
       "    </tr>\n",
       "    <tr>\n",
       "      <th>372148</th>\n",
       "      <td>Publishing</td>\n",
       "      <td>Fiction</td>\n",
       "      <td>United States</td>\n",
       "      <td>8000</td>\n",
       "      <td>10</td>\n",
       "      <td>1</td>\n",
       "      <td>Live</td>\n",
       "      <td>2017</td>\n",
       "      <td>12</td>\n",
       "      <td>2</td>\n",
       "      <td>5</td>\n",
       "      <td>336</td>\n",
       "      <td>2018</td>\n",
       "      <td>1</td>\n",
       "      <td>13</td>\n",
       "      <td>5</td>\n",
       "      <td>13</td>\n",
       "    </tr>\n",
       "    <tr>\n",
       "      <th>72536</th>\n",
       "      <td>Art</td>\n",
       "      <td>Art</td>\n",
       "      <td>United States</td>\n",
       "      <td>3000</td>\n",
       "      <td>175</td>\n",
       "      <td>7</td>\n",
       "      <td>Failed</td>\n",
       "      <td>2012</td>\n",
       "      <td>10</td>\n",
       "      <td>20</td>\n",
       "      <td>5</td>\n",
       "      <td>294</td>\n",
       "      <td>2012</td>\n",
       "      <td>12</td>\n",
       "      <td>4</td>\n",
       "      <td>1</td>\n",
       "      <td>339</td>\n",
       "    </tr>\n",
       "    <tr>\n",
       "      <th>308876</th>\n",
       "      <td>Design</td>\n",
       "      <td>Product Design</td>\n",
       "      <td>United States</td>\n",
       "      <td>35000</td>\n",
       "      <td>325</td>\n",
       "      <td>12</td>\n",
       "      <td>Failed</td>\n",
       "      <td>2016</td>\n",
       "      <td>9</td>\n",
       "      <td>25</td>\n",
       "      <td>6</td>\n",
       "      <td>269</td>\n",
       "      <td>2016</td>\n",
       "      <td>10</td>\n",
       "      <td>26</td>\n",
       "      <td>2</td>\n",
       "      <td>300</td>\n",
       "    </tr>\n",
       "  </tbody>\n",
       "</table>\n",
       "</div>"
      ],
      "text/plain": [
       "            Category     Subcategory        Country    Goal  Pledged  Backers  \\\n",
       "297887    Technology      Technology         Canada  192678       15        2   \n",
       "256052  Film & Video    Film & Video  United States   65000     2395       11   \n",
       "28027         Comics          Comics  United States    3724     3944       83   \n",
       "29914   Film & Video    Film & Video  United States   30000     1857       16   \n",
       "315311         Music             Pop          Spain       1      214        8   \n",
       "81726     Publishing      Nonfiction  United States    3000       35        1   \n",
       "366755    Technology       Wearables  United States   30000        0        0   \n",
       "372148    Publishing         Fiction  United States    8000       10        1   \n",
       "72536            Art             Art  United States    3000      175        7   \n",
       "308876        Design  Product Design  United States   35000      325       12   \n",
       "\n",
       "             State  Launch_year  Launch_month  Launch_day  Launch_dayofweek  \\\n",
       "297887      Failed         2016             7           8                 4   \n",
       "256052      Failed         2015            10          29                 3   \n",
       "28027   Successful         2011             8          21                 6   \n",
       "29914       Failed         2011             9          16                 4   \n",
       "315311  Successful         2016            11           4                 4   \n",
       "81726       Failed         2013             1          25                 4   \n",
       "366755      Failed         2017            10          27                 4   \n",
       "372148        Live         2017            12           2                 5   \n",
       "72536       Failed         2012            10          20                 5   \n",
       "308876      Failed         2016             9          25                 6   \n",
       "\n",
       "        Launch_dayofyear  Deadline_year  Deadline_month  Deadline_day  \\\n",
       "297887               190           2016               8             7   \n",
       "256052               302           2015              12            28   \n",
       "28027                233           2011               9            20   \n",
       "29914                259           2011              11            15   \n",
       "315311               309           2016              12            14   \n",
       "81726                 25           2013               2            24   \n",
       "366755               300           2017              11            26   \n",
       "372148               336           2018               1            13   \n",
       "72536                294           2012              12             4   \n",
       "308876               269           2016              10            26   \n",
       "\n",
       "        Deadline_dayofweek  Deadline_dayofyear  \n",
       "297887                   6                 220  \n",
       "256052                   0                 362  \n",
       "28027                    1                 263  \n",
       "29914                    1                 319  \n",
       "315311                   2                 349  \n",
       "81726                    6                  55  \n",
       "366755                   6                 330  \n",
       "372148                   5                  13  \n",
       "72536                    1                 339  \n",
       "308876                   2                 300  "
      ]
     },
     "execution_count": 39,
     "metadata": {},
     "output_type": "execute_result"
    }
   ],
   "source": [
    "#Using sample to show random dataframe\n",
    "df.sample(10)"
   ]
  },
  {
   "cell_type": "code",
   "execution_count": 40,
   "metadata": {
    "colab": {
     "base_uri": "https://localhost:8080/"
    },
    "id": "Yz8x8051m3M0",
    "outputId": "4b75564e-b005-4aaf-b5ce-c009fc5b9f87"
   },
   "outputs": [
    {
     "data": {
      "text/plain": [
       "CategoricalIndex(['Failed', 'Successful', 'Canceled', 'Live', 'Suspended'], categories=['Canceled', 'Failed', 'Live', 'Successful', 'Suspended'], ordered=False, dtype='category')"
      ]
     },
     "execution_count": 40,
     "metadata": {},
     "output_type": "execute_result"
    }
   ],
   "source": [
    "#Using Unique() to check uniques values\n",
    "df['State'].value_counts().keys().unique()"
   ]
  },
  {
   "cell_type": "markdown",
   "metadata": {
    "id": "cO5cT9xn5AY1"
   },
   "source": [
    "### Except for Successful and Failure, remaining 3 categories of state i.e Calceled, Live, Suspended doesn't add much value to the dataset. Our training model may learn unnecesaary patterns from it. So we drop these 3 categories of State and make our problem a binary classification"
   ]
  },
  {
   "cell_type": "code",
   "execution_count": 41,
   "metadata": {
    "id": "lMosUBZlnJd8"
   },
   "outputs": [],
   "source": [
    "df['State'] = df['State'].replace(['Failed','Successful'],[0,1])"
   ]
  },
  {
   "cell_type": "code",
   "execution_count": 42,
   "metadata": {
    "id": "53dTkPvmoVAV"
   },
   "outputs": [],
   "source": [
    "df.drop(df.loc[df['State']=='Canceled'].index, inplace=True)\n",
    "df.drop(df.loc[df['State']=='Live'].index, inplace=True)\n",
    "df.drop(df.loc[df['State']=='Suspended'].index, inplace=True)"
   ]
  },
  {
   "cell_type": "code",
   "execution_count": 43,
   "metadata": {
    "colab": {
     "base_uri": "https://localhost:8080/"
    },
    "id": "bUM5-j2poiuo",
    "outputId": "ca86e54a-3c28-40a3-f3c3-27476c5c1375"
   },
   "outputs": [
    {
     "data": {
      "text/plain": [
       "Int64Index([0, 1], dtype='int64')"
      ]
     },
     "execution_count": 43,
     "metadata": {},
     "output_type": "execute_result"
    }
   ],
   "source": [
    "df['State'].value_counts().keys().unique()"
   ]
  },
  {
   "cell_type": "code",
   "execution_count": 44,
   "metadata": {
    "colab": {
     "base_uri": "https://localhost:8080/",
     "height": 357
    },
    "id": "ynoRQVs3omWZ",
    "outputId": "91cc197d-36da-4291-d0aa-fa834c8a0ed8"
   },
   "outputs": [
    {
     "data": {
      "text/html": [
       "<div>\n",
       "<style scoped>\n",
       "    .dataframe tbody tr th:only-of-type {\n",
       "        vertical-align: middle;\n",
       "    }\n",
       "\n",
       "    .dataframe tbody tr th {\n",
       "        vertical-align: top;\n",
       "    }\n",
       "\n",
       "    .dataframe thead th {\n",
       "        text-align: right;\n",
       "    }\n",
       "</style>\n",
       "<table border=\"1\" class=\"dataframe\">\n",
       "  <thead>\n",
       "    <tr style=\"text-align: right;\">\n",
       "      <th></th>\n",
       "      <th>Category</th>\n",
       "      <th>Subcategory</th>\n",
       "      <th>Country</th>\n",
       "      <th>Goal</th>\n",
       "      <th>Pledged</th>\n",
       "      <th>Backers</th>\n",
       "      <th>State</th>\n",
       "      <th>Launch_year</th>\n",
       "      <th>Launch_month</th>\n",
       "      <th>Launch_day</th>\n",
       "      <th>Launch_dayofweek</th>\n",
       "      <th>Launch_dayofyear</th>\n",
       "      <th>Deadline_year</th>\n",
       "      <th>Deadline_month</th>\n",
       "      <th>Deadline_day</th>\n",
       "      <th>Deadline_dayofweek</th>\n",
       "      <th>Deadline_dayofyear</th>\n",
       "    </tr>\n",
       "  </thead>\n",
       "  <tbody>\n",
       "    <tr>\n",
       "      <th>0</th>\n",
       "      <td>Fashion</td>\n",
       "      <td>Fashion</td>\n",
       "      <td>United States</td>\n",
       "      <td>1000</td>\n",
       "      <td>625</td>\n",
       "      <td>30</td>\n",
       "      <td>0</td>\n",
       "      <td>2009</td>\n",
       "      <td>4</td>\n",
       "      <td>21</td>\n",
       "      <td>1</td>\n",
       "      <td>111</td>\n",
       "      <td>2009</td>\n",
       "      <td>5</td>\n",
       "      <td>31</td>\n",
       "      <td>6</td>\n",
       "      <td>151</td>\n",
       "    </tr>\n",
       "    <tr>\n",
       "      <th>1</th>\n",
       "      <td>Film &amp; Video</td>\n",
       "      <td>Shorts</td>\n",
       "      <td>United States</td>\n",
       "      <td>80000</td>\n",
       "      <td>22</td>\n",
       "      <td>3</td>\n",
       "      <td>0</td>\n",
       "      <td>2009</td>\n",
       "      <td>4</td>\n",
       "      <td>23</td>\n",
       "      <td>3</td>\n",
       "      <td>113</td>\n",
       "      <td>2009</td>\n",
       "      <td>7</td>\n",
       "      <td>20</td>\n",
       "      <td>0</td>\n",
       "      <td>201</td>\n",
       "    </tr>\n",
       "    <tr>\n",
       "      <th>2</th>\n",
       "      <td>Art</td>\n",
       "      <td>Illustration</td>\n",
       "      <td>United States</td>\n",
       "      <td>20</td>\n",
       "      <td>35</td>\n",
       "      <td>3</td>\n",
       "      <td>1</td>\n",
       "      <td>2009</td>\n",
       "      <td>4</td>\n",
       "      <td>24</td>\n",
       "      <td>4</td>\n",
       "      <td>114</td>\n",
       "      <td>2009</td>\n",
       "      <td>5</td>\n",
       "      <td>3</td>\n",
       "      <td>6</td>\n",
       "      <td>123</td>\n",
       "    </tr>\n",
       "    <tr>\n",
       "      <th>3</th>\n",
       "      <td>Technology</td>\n",
       "      <td>Software</td>\n",
       "      <td>United States</td>\n",
       "      <td>99</td>\n",
       "      <td>145</td>\n",
       "      <td>25</td>\n",
       "      <td>1</td>\n",
       "      <td>2009</td>\n",
       "      <td>4</td>\n",
       "      <td>25</td>\n",
       "      <td>5</td>\n",
       "      <td>115</td>\n",
       "      <td>2009</td>\n",
       "      <td>7</td>\n",
       "      <td>14</td>\n",
       "      <td>1</td>\n",
       "      <td>195</td>\n",
       "    </tr>\n",
       "    <tr>\n",
       "      <th>4</th>\n",
       "      <td>Fashion</td>\n",
       "      <td>Fashion</td>\n",
       "      <td>United States</td>\n",
       "      <td>1900</td>\n",
       "      <td>387</td>\n",
       "      <td>10</td>\n",
       "      <td>0</td>\n",
       "      <td>2009</td>\n",
       "      <td>4</td>\n",
       "      <td>27</td>\n",
       "      <td>0</td>\n",
       "      <td>117</td>\n",
       "      <td>2009</td>\n",
       "      <td>5</td>\n",
       "      <td>26</td>\n",
       "      <td>1</td>\n",
       "      <td>146</td>\n",
       "    </tr>\n",
       "  </tbody>\n",
       "</table>\n",
       "</div>"
      ],
      "text/plain": [
       "       Category   Subcategory        Country   Goal  Pledged  Backers State  \\\n",
       "0       Fashion       Fashion  United States   1000      625       30     0   \n",
       "1  Film & Video        Shorts  United States  80000       22        3     0   \n",
       "2           Art  Illustration  United States     20       35        3     1   \n",
       "3    Technology      Software  United States     99      145       25     1   \n",
       "4       Fashion       Fashion  United States   1900      387       10     0   \n",
       "\n",
       "   Launch_year  Launch_month  Launch_day  Launch_dayofweek  Launch_dayofyear  \\\n",
       "0         2009             4          21                 1               111   \n",
       "1         2009             4          23                 3               113   \n",
       "2         2009             4          24                 4               114   \n",
       "3         2009             4          25                 5               115   \n",
       "4         2009             4          27                 0               117   \n",
       "\n",
       "   Deadline_year  Deadline_month  Deadline_day  Deadline_dayofweek  \\\n",
       "0           2009               5            31                   6   \n",
       "1           2009               7            20                   0   \n",
       "2           2009               5             3                   6   \n",
       "3           2009               7            14                   1   \n",
       "4           2009               5            26                   1   \n",
       "\n",
       "   Deadline_dayofyear  \n",
       "0                 151  \n",
       "1                 201  \n",
       "2                 123  \n",
       "3                 195  \n",
       "4                 146  "
      ]
     },
     "execution_count": 44,
     "metadata": {},
     "output_type": "execute_result"
    }
   ],
   "source": [
    "df.head()"
   ]
  },
  {
   "cell_type": "code",
   "execution_count": 45,
   "metadata": {
    "colab": {
     "base_uri": "https://localhost:8080/"
    },
    "id": "wQPpkE4F8DPd",
    "outputId": "58590e92-7596-42db-f7b3-324c3d10f993"
   },
   "outputs": [
    {
     "name": "stdout",
     "output_type": "stream",
     "text": [
      "<class 'pandas.core.frame.DataFrame'>\n",
      "Int64Index: 331462 entries, 0 to 374605\n",
      "Data columns (total 17 columns):\n",
      " #   Column              Non-Null Count   Dtype   \n",
      "---  ------              --------------   -----   \n",
      " 0   Category            331462 non-null  category\n",
      " 1   Subcategory         331462 non-null  category\n",
      " 2   Country             331462 non-null  category\n",
      " 3   Goal                331462 non-null  int64   \n",
      " 4   Pledged             331462 non-null  int64   \n",
      " 5   Backers             331462 non-null  int64   \n",
      " 6   State               331462 non-null  object  \n",
      " 7   Launch_year         331462 non-null  int64   \n",
      " 8   Launch_month        331462 non-null  int64   \n",
      " 9   Launch_day          331462 non-null  int64   \n",
      " 10  Launch_dayofweek    331462 non-null  int64   \n",
      " 11  Launch_dayofyear    331462 non-null  int64   \n",
      " 12  Deadline_year       331462 non-null  int64   \n",
      " 13  Deadline_month      331462 non-null  int64   \n",
      " 14  Deadline_day        331462 non-null  int64   \n",
      " 15  Deadline_dayofweek  331462 non-null  int64   \n",
      " 16  Deadline_dayofyear  331462 non-null  int64   \n",
      "dtypes: category(3), int64(13), object(1)\n",
      "memory usage: 39.2+ MB\n"
     ]
    }
   ],
   "source": [
    "df.info()"
   ]
  },
  {
   "cell_type": "markdown",
   "metadata": {
    "id": "rGsWX828_aIg"
   },
   "source": [
    "### We need to Convert Category to to Codes so that models can learn patterns from it."
   ]
  },
  {
   "cell_type": "code",
   "execution_count": 46,
   "metadata": {
    "colab": {
     "base_uri": "https://localhost:8080/"
    },
    "id": "QnJIEwsKzW-v",
    "outputId": "0b0b869e-3d37-42d1-93eb-d4a4edd0c2db"
   },
   "outputs": [
    {
     "name": "stdout",
     "output_type": "stream",
     "text": [
      "['State']\n"
     ]
    }
   ],
   "source": [
    "#Let's check which all columns have object type\n",
    "string_columns = []\n",
    "for column,content in df.items():\n",
    "    if pd.api.types.is_string_dtype(content):\n",
    "        string_columns.append(column)\n",
    "print(string_columns)"
   ]
  },
  {
   "cell_type": "code",
   "execution_count": 47,
   "metadata": {
    "colab": {
     "base_uri": "https://localhost:8080/"
    },
    "id": "t19ZMyXIbnjY",
    "outputId": "28e567f7-28cb-4d59-816e-e40fd046faf5"
   },
   "outputs": [
    {
     "data": {
      "text/plain": [
       "(array([22, 22, 22, ..., 22, 22,  1], dtype=int8),\n",
       " array([21, 21, 21, ..., 21, 21,  0], dtype=int8))"
      ]
     },
     "execution_count": 47,
     "metadata": {},
     "output_type": "execute_result"
    }
   ],
   "source": [
    "pd.Categorical(df[\"Country\"]).codes+1, pd.Categorical(df[\"Country\"]).codes"
   ]
  },
  {
   "cell_type": "code",
   "execution_count": 48,
   "metadata": {
    "id": "Ls9Kkfk9zmLe"
   },
   "outputs": [],
   "source": [
    "#Let's convert all above columns into categorical\n",
    "for column,content in df.items():\n",
    "    if pd.api.types.is_string_dtype(content):\n",
    "        df[column]= content.astype('category').cat.as_ordered()# category as ascending\n",
    "                                                #use .as_ordered if you want to sort inside values else .categorical\n",
    "                                                #.cat is same like .dt used before for datetime"
   ]
  },
  {
   "cell_type": "code",
   "execution_count": 49,
   "metadata": {
    "id": "VJYCjf0vFBM2"
   },
   "outputs": [],
   "source": [
    "#Turn categorical variables(objects) into numbers as well as fill missing values\n",
    "for label, content in df.items():\n",
    "    if not pd.api.types.is_numeric_dtype(content):\n",
    "        df[label] = pd.Categorical(content).codes+1 # +1 because if null value found, .codes returns -1. \n",
    "                                                        # by adding +1 to -1 = 0"
   ]
  },
  {
   "cell_type": "code",
   "execution_count": 50,
   "metadata": {
    "colab": {
     "base_uri": "https://localhost:8080/",
     "height": 270
    },
    "id": "CileVBjhBn5N",
    "outputId": "deaf3266-6503-4e33-cda0-677ffbfc73b7"
   },
   "outputs": [
    {
     "data": {
      "text/html": [
       "<div>\n",
       "<style scoped>\n",
       "    .dataframe tbody tr th:only-of-type {\n",
       "        vertical-align: middle;\n",
       "    }\n",
       "\n",
       "    .dataframe tbody tr th {\n",
       "        vertical-align: top;\n",
       "    }\n",
       "\n",
       "    .dataframe thead th {\n",
       "        text-align: right;\n",
       "    }\n",
       "</style>\n",
       "<table border=\"1\" class=\"dataframe\">\n",
       "  <thead>\n",
       "    <tr style=\"text-align: right;\">\n",
       "      <th></th>\n",
       "      <th>Category</th>\n",
       "      <th>Subcategory</th>\n",
       "      <th>Country</th>\n",
       "      <th>Goal</th>\n",
       "      <th>Pledged</th>\n",
       "      <th>Backers</th>\n",
       "      <th>State</th>\n",
       "      <th>Launch_year</th>\n",
       "      <th>Launch_month</th>\n",
       "      <th>Launch_day</th>\n",
       "      <th>Launch_dayofweek</th>\n",
       "      <th>Launch_dayofyear</th>\n",
       "      <th>Deadline_year</th>\n",
       "      <th>Deadline_month</th>\n",
       "      <th>Deadline_day</th>\n",
       "      <th>Deadline_dayofweek</th>\n",
       "      <th>Deadline_dayofyear</th>\n",
       "    </tr>\n",
       "  </thead>\n",
       "  <tbody>\n",
       "    <tr>\n",
       "      <th>0</th>\n",
       "      <td>6</td>\n",
       "      <td>53</td>\n",
       "      <td>22</td>\n",
       "      <td>1000</td>\n",
       "      <td>625</td>\n",
       "      <td>30</td>\n",
       "      <td>1</td>\n",
       "      <td>2009</td>\n",
       "      <td>4</td>\n",
       "      <td>21</td>\n",
       "      <td>1</td>\n",
       "      <td>111</td>\n",
       "      <td>2009</td>\n",
       "      <td>5</td>\n",
       "      <td>31</td>\n",
       "      <td>6</td>\n",
       "      <td>151</td>\n",
       "    </tr>\n",
       "    <tr>\n",
       "      <th>1</th>\n",
       "      <td>7</td>\n",
       "      <td>130</td>\n",
       "      <td>22</td>\n",
       "      <td>80000</td>\n",
       "      <td>22</td>\n",
       "      <td>3</td>\n",
       "      <td>1</td>\n",
       "      <td>2009</td>\n",
       "      <td>4</td>\n",
       "      <td>23</td>\n",
       "      <td>3</td>\n",
       "      <td>113</td>\n",
       "      <td>2009</td>\n",
       "      <td>7</td>\n",
       "      <td>20</td>\n",
       "      <td>0</td>\n",
       "      <td>201</td>\n",
       "    </tr>\n",
       "    <tr>\n",
       "      <th>2</th>\n",
       "      <td>1</td>\n",
       "      <td>71</td>\n",
       "      <td>22</td>\n",
       "      <td>20</td>\n",
       "      <td>35</td>\n",
       "      <td>3</td>\n",
       "      <td>2</td>\n",
       "      <td>2009</td>\n",
       "      <td>4</td>\n",
       "      <td>24</td>\n",
       "      <td>4</td>\n",
       "      <td>114</td>\n",
       "      <td>2009</td>\n",
       "      <td>5</td>\n",
       "      <td>3</td>\n",
       "      <td>6</td>\n",
       "      <td>123</td>\n",
       "    </tr>\n",
       "    <tr>\n",
       "      <th>3</th>\n",
       "      <td>14</td>\n",
       "      <td>132</td>\n",
       "      <td>22</td>\n",
       "      <td>99</td>\n",
       "      <td>145</td>\n",
       "      <td>25</td>\n",
       "      <td>2</td>\n",
       "      <td>2009</td>\n",
       "      <td>4</td>\n",
       "      <td>25</td>\n",
       "      <td>5</td>\n",
       "      <td>115</td>\n",
       "      <td>2009</td>\n",
       "      <td>7</td>\n",
       "      <td>14</td>\n",
       "      <td>1</td>\n",
       "      <td>195</td>\n",
       "    </tr>\n",
       "    <tr>\n",
       "      <th>4</th>\n",
       "      <td>6</td>\n",
       "      <td>53</td>\n",
       "      <td>22</td>\n",
       "      <td>1900</td>\n",
       "      <td>387</td>\n",
       "      <td>10</td>\n",
       "      <td>1</td>\n",
       "      <td>2009</td>\n",
       "      <td>4</td>\n",
       "      <td>27</td>\n",
       "      <td>0</td>\n",
       "      <td>117</td>\n",
       "      <td>2009</td>\n",
       "      <td>5</td>\n",
       "      <td>26</td>\n",
       "      <td>1</td>\n",
       "      <td>146</td>\n",
       "    </tr>\n",
       "  </tbody>\n",
       "</table>\n",
       "</div>"
      ],
      "text/plain": [
       "   Category  Subcategory  Country   Goal  Pledged  Backers  State  \\\n",
       "0         6           53       22   1000      625       30      1   \n",
       "1         7          130       22  80000       22        3      1   \n",
       "2         1           71       22     20       35        3      2   \n",
       "3        14          132       22     99      145       25      2   \n",
       "4         6           53       22   1900      387       10      1   \n",
       "\n",
       "   Launch_year  Launch_month  Launch_day  Launch_dayofweek  Launch_dayofyear  \\\n",
       "0         2009             4          21                 1               111   \n",
       "1         2009             4          23                 3               113   \n",
       "2         2009             4          24                 4               114   \n",
       "3         2009             4          25                 5               115   \n",
       "4         2009             4          27                 0               117   \n",
       "\n",
       "   Deadline_year  Deadline_month  Deadline_day  Deadline_dayofweek  \\\n",
       "0           2009               5            31                   6   \n",
       "1           2009               7            20                   0   \n",
       "2           2009               5             3                   6   \n",
       "3           2009               7            14                   1   \n",
       "4           2009               5            26                   1   \n",
       "\n",
       "   Deadline_dayofyear  \n",
       "0                 151  \n",
       "1                 201  \n",
       "2                 123  \n",
       "3                 195  \n",
       "4                 146  "
      ]
     },
     "execution_count": 50,
     "metadata": {},
     "output_type": "execute_result"
    }
   ],
   "source": [
    "df.head()"
   ]
  },
  {
   "cell_type": "code",
   "execution_count": 51,
   "metadata": {
    "colab": {
     "base_uri": "https://localhost:8080/"
    },
    "id": "SVvUHUZysGmy",
    "outputId": "804d2b42-2995-4e30-efb6-c325a2ed6a02"
   },
   "outputs": [
    {
     "data": {
      "text/plain": [
       "1    197611\n",
       "2    133851\n",
       "Name: State, dtype: int64"
      ]
     },
     "execution_count": 51,
     "metadata": {},
     "output_type": "execute_result"
    }
   ],
   "source": [
    "df[\"State\"].value_counts()"
   ]
  },
  {
   "cell_type": "code",
   "execution_count": 52,
   "metadata": {
    "id": "-tLCQ1lUsLMb"
   },
   "outputs": [],
   "source": [
    "#Changing State value to original state\n",
    "df['State'].replace([1,2],[0,1], inplace=True)"
   ]
  },
  {
   "cell_type": "code",
   "execution_count": 53,
   "metadata": {
    "colab": {
     "base_uri": "https://localhost:8080/"
    },
    "id": "D3L7DcepCPUt",
    "outputId": "b42dd117-bd6c-4f36-9921-ed8ce35376f3"
   },
   "outputs": [
    {
     "name": "stdout",
     "output_type": "stream",
     "text": [
      "<class 'pandas.core.frame.DataFrame'>\n",
      "Int64Index: 331462 entries, 0 to 374605\n",
      "Data columns (total 17 columns):\n",
      " #   Column              Non-Null Count   Dtype\n",
      "---  ------              --------------   -----\n",
      " 0   Category            331462 non-null  int8 \n",
      " 1   Subcategory         331462 non-null  int16\n",
      " 2   Country             331462 non-null  int8 \n",
      " 3   Goal                331462 non-null  int64\n",
      " 4   Pledged             331462 non-null  int64\n",
      " 5   Backers             331462 non-null  int64\n",
      " 6   State               331462 non-null  int64\n",
      " 7   Launch_year         331462 non-null  int64\n",
      " 8   Launch_month        331462 non-null  int64\n",
      " 9   Launch_day          331462 non-null  int64\n",
      " 10  Launch_dayofweek    331462 non-null  int64\n",
      " 11  Launch_dayofyear    331462 non-null  int64\n",
      " 12  Deadline_year       331462 non-null  int64\n",
      " 13  Deadline_month      331462 non-null  int64\n",
      " 14  Deadline_day        331462 non-null  int64\n",
      " 15  Deadline_dayofweek  331462 non-null  int64\n",
      " 16  Deadline_dayofyear  331462 non-null  int64\n",
      "dtypes: int16(1), int64(14), int8(2)\n",
      "memory usage: 39.2 MB\n"
     ]
    }
   ],
   "source": [
    "df.info()"
   ]
  },
  {
   "cell_type": "code",
   "execution_count": 54,
   "metadata": {
    "colab": {
     "base_uri": "https://localhost:8080/",
     "height": 270
    },
    "id": "4eJuPq_mz_mF",
    "outputId": "6a5f2cdf-258c-4bba-ae74-926a30302260"
   },
   "outputs": [
    {
     "data": {
      "text/html": [
       "<div>\n",
       "<style scoped>\n",
       "    .dataframe tbody tr th:only-of-type {\n",
       "        vertical-align: middle;\n",
       "    }\n",
       "\n",
       "    .dataframe tbody tr th {\n",
       "        vertical-align: top;\n",
       "    }\n",
       "\n",
       "    .dataframe thead th {\n",
       "        text-align: right;\n",
       "    }\n",
       "</style>\n",
       "<table border=\"1\" class=\"dataframe\">\n",
       "  <thead>\n",
       "    <tr style=\"text-align: right;\">\n",
       "      <th></th>\n",
       "      <th>Category</th>\n",
       "      <th>Subcategory</th>\n",
       "      <th>Country</th>\n",
       "      <th>Goal</th>\n",
       "      <th>Pledged</th>\n",
       "      <th>Backers</th>\n",
       "      <th>State</th>\n",
       "      <th>Launch_year</th>\n",
       "      <th>Launch_month</th>\n",
       "      <th>Launch_day</th>\n",
       "      <th>Launch_dayofweek</th>\n",
       "      <th>Launch_dayofyear</th>\n",
       "      <th>Deadline_year</th>\n",
       "      <th>Deadline_month</th>\n",
       "      <th>Deadline_day</th>\n",
       "      <th>Deadline_dayofweek</th>\n",
       "      <th>Deadline_dayofyear</th>\n",
       "    </tr>\n",
       "  </thead>\n",
       "  <tbody>\n",
       "    <tr>\n",
       "      <th>0</th>\n",
       "      <td>6</td>\n",
       "      <td>53</td>\n",
       "      <td>22</td>\n",
       "      <td>1000</td>\n",
       "      <td>625</td>\n",
       "      <td>30</td>\n",
       "      <td>0</td>\n",
       "      <td>2009</td>\n",
       "      <td>4</td>\n",
       "      <td>21</td>\n",
       "      <td>1</td>\n",
       "      <td>111</td>\n",
       "      <td>2009</td>\n",
       "      <td>5</td>\n",
       "      <td>31</td>\n",
       "      <td>6</td>\n",
       "      <td>151</td>\n",
       "    </tr>\n",
       "    <tr>\n",
       "      <th>1</th>\n",
       "      <td>7</td>\n",
       "      <td>130</td>\n",
       "      <td>22</td>\n",
       "      <td>80000</td>\n",
       "      <td>22</td>\n",
       "      <td>3</td>\n",
       "      <td>0</td>\n",
       "      <td>2009</td>\n",
       "      <td>4</td>\n",
       "      <td>23</td>\n",
       "      <td>3</td>\n",
       "      <td>113</td>\n",
       "      <td>2009</td>\n",
       "      <td>7</td>\n",
       "      <td>20</td>\n",
       "      <td>0</td>\n",
       "      <td>201</td>\n",
       "    </tr>\n",
       "    <tr>\n",
       "      <th>2</th>\n",
       "      <td>1</td>\n",
       "      <td>71</td>\n",
       "      <td>22</td>\n",
       "      <td>20</td>\n",
       "      <td>35</td>\n",
       "      <td>3</td>\n",
       "      <td>1</td>\n",
       "      <td>2009</td>\n",
       "      <td>4</td>\n",
       "      <td>24</td>\n",
       "      <td>4</td>\n",
       "      <td>114</td>\n",
       "      <td>2009</td>\n",
       "      <td>5</td>\n",
       "      <td>3</td>\n",
       "      <td>6</td>\n",
       "      <td>123</td>\n",
       "    </tr>\n",
       "    <tr>\n",
       "      <th>3</th>\n",
       "      <td>14</td>\n",
       "      <td>132</td>\n",
       "      <td>22</td>\n",
       "      <td>99</td>\n",
       "      <td>145</td>\n",
       "      <td>25</td>\n",
       "      <td>1</td>\n",
       "      <td>2009</td>\n",
       "      <td>4</td>\n",
       "      <td>25</td>\n",
       "      <td>5</td>\n",
       "      <td>115</td>\n",
       "      <td>2009</td>\n",
       "      <td>7</td>\n",
       "      <td>14</td>\n",
       "      <td>1</td>\n",
       "      <td>195</td>\n",
       "    </tr>\n",
       "    <tr>\n",
       "      <th>4</th>\n",
       "      <td>6</td>\n",
       "      <td>53</td>\n",
       "      <td>22</td>\n",
       "      <td>1900</td>\n",
       "      <td>387</td>\n",
       "      <td>10</td>\n",
       "      <td>0</td>\n",
       "      <td>2009</td>\n",
       "      <td>4</td>\n",
       "      <td>27</td>\n",
       "      <td>0</td>\n",
       "      <td>117</td>\n",
       "      <td>2009</td>\n",
       "      <td>5</td>\n",
       "      <td>26</td>\n",
       "      <td>1</td>\n",
       "      <td>146</td>\n",
       "    </tr>\n",
       "  </tbody>\n",
       "</table>\n",
       "</div>"
      ],
      "text/plain": [
       "   Category  Subcategory  Country   Goal  Pledged  Backers  State  \\\n",
       "0         6           53       22   1000      625       30      0   \n",
       "1         7          130       22  80000       22        3      0   \n",
       "2         1           71       22     20       35        3      1   \n",
       "3        14          132       22     99      145       25      1   \n",
       "4         6           53       22   1900      387       10      0   \n",
       "\n",
       "   Launch_year  Launch_month  Launch_day  Launch_dayofweek  Launch_dayofyear  \\\n",
       "0         2009             4          21                 1               111   \n",
       "1         2009             4          23                 3               113   \n",
       "2         2009             4          24                 4               114   \n",
       "3         2009             4          25                 5               115   \n",
       "4         2009             4          27                 0               117   \n",
       "\n",
       "   Deadline_year  Deadline_month  Deadline_day  Deadline_dayofweek  \\\n",
       "0           2009               5            31                   6   \n",
       "1           2009               7            20                   0   \n",
       "2           2009               5             3                   6   \n",
       "3           2009               7            14                   1   \n",
       "4           2009               5            26                   1   \n",
       "\n",
       "   Deadline_dayofyear  \n",
       "0                 151  \n",
       "1                 201  \n",
       "2                 123  \n",
       "3                 195  \n",
       "4                 146  "
      ]
     },
     "execution_count": 54,
     "metadata": {},
     "output_type": "execute_result"
    }
   ],
   "source": [
    "df.head()"
   ]
  },
  {
   "cell_type": "markdown",
   "metadata": {
    "id": "gkiBFCZjCRrq"
   },
   "source": [
    "##Now that all our columns are converted into int or float, we can start preparing the model. We'll start by plotting a correlation plot between different values"
   ]
  },
  {
   "cell_type": "code",
   "execution_count": 55,
   "metadata": {
    "colab": {
     "base_uri": "https://localhost:8080/",
     "height": 757
    },
    "id": "LrBFUk6kigbO",
    "outputId": "0105b641-a4de-45bd-f86a-1b21f7251344"
   },
   "outputs": [
    {
     "data": {
      "image/png": "[encoded data removed]",
      "text/plain": [
       "<Figure size 1440x792 with 2 Axes>"
      ]
     },
     "metadata": {},
     "output_type": "display_data"
    }
   ],
   "source": [
    "#using heat map corr() for heat map using Object Oriented method of plotting\n",
    "fig, ax = plt.subplots(figsize=(20,11))\n",
    "ax = sns.heatmap(df.corr(),annot=True)# can also add linewidths = 1,fmt = \".2f\",cmap='YlGnBu'"
   ]
  },
  {
   "cell_type": "markdown",
   "metadata": {
    "id": "-pGJWFnBCuDt"
   },
   "source": [
    "# Let's Start Modelling by using various SciKit Learn Libraries"
   ]
  },
  {
   "cell_type": "code",
   "execution_count": 56,
   "metadata": {
    "id": "5wOBmgoCmjuO"
   },
   "outputs": [],
   "source": [
    "#Modelling\n",
    "from sklearn.linear_model import  LogisticRegression\n",
    "from sklearn.neighbors import KNeighborsClassifier\n",
    "from sklearn.ensemble import RandomForestClassifier \n",
    "from sklearn.naive_bayes import GaussianNB\n",
    "\n",
    "# Model Evaluations\n",
    "from sklearn.model_selection import train_test_split, cross_val_score, RandomizedSearchCV, GridSearchCV\n",
    "from sklearn.metrics import confusion_matrix, classification_report, precision_score, recall_score, f1_score, plot_roc_curve, roc_curve"
   ]
  },
  {
   "cell_type": "code",
   "execution_count": 57,
   "metadata": {
    "id": "7KjxJRJXsl5T"
   },
   "outputs": [],
   "source": [
    "#We'll predict the state\n",
    "np.random.seed(42)\n",
    "X  = df.drop('State',axis=1)\n",
    "y = df['State']\n",
    "X_train,X_test,y_train,y_test = train_test_split(X,y,test_size=0.2)"
   ]
  },
  {
   "cell_type": "markdown",
   "metadata": {
    "id": "CbC3NY5tsxmW"
   },
   "source": [
    "### Now that we got our data split into train and test, we'll find patterns on train set and use patterns in test set\n",
    "We will try 3 different ML model\n",
    "\n",
    "    1.Logistics Regression\n",
    "    2.K-Nearnest Neighbour Classifier\n",
    "    3.Random Forest Classifier\n",
    "    4.Gaussian Naive Bayes\n",
    "\n"
   ]
  },
  {
   "cell_type": "code",
   "execution_count": 58,
   "metadata": {
    "id": "kZNxAxqatDqA"
   },
   "outputs": [],
   "source": [
    "models = {\n",
    "        \"Logistics_Regression\":LogisticRegression(),\n",
    "        \"KNN\":KNeighborsClassifier(), \n",
    "        \"Random_Forest\":RandomForestClassifier(),\n",
    "        \"Naive Bayes\": GaussianNB()\n",
    "         }\n"
   ]
  },
  {
   "cell_type": "code",
   "execution_count": 59,
   "metadata": {
    "id": "0AD2nQDotFYE"
   },
   "outputs": [],
   "source": [
    "#Creating a function to fit and score the model\n",
    "def fit_score(models,X_train,X_test,y_train,y_test):\n",
    "    np.random.seed(42)\n",
    "    models_scores={} # model_name: its_score\n",
    "    #looping\n",
    "    for name, modelll in models.items():\n",
    "        modelll.fit(X_train,y_train)\n",
    "        models_scores[name] = modelll.score(X_test,y_test)\n",
    "    return models_scores"
   ]
  },
  {
   "cell_type": "code",
   "execution_count": 60,
   "metadata": {
    "colab": {
     "base_uri": "https://localhost:8080/"
    },
    "id": "MCCXQGwEtMtO",
    "outputId": "ea2be8cb-4bfe-41e1-dc8a-42dc40a9bef0"
   },
   "outputs": [
    {
     "name": "stderr",
     "output_type": "stream",
     "text": [
      "C:\\Users\\acer\\Desktop\\sample_project_1\\env\\lib\\site-packages\\sklearn\\linear_model\\_logistic.py:814: ConvergenceWarning: lbfgs failed to converge (status=1):\n",
      "STOP: TOTAL NO. of ITERATIONS REACHED LIMIT.\n",
      "\n",
      "Increase the number of iterations (max_iter) or scale the data as shown in:\n",
      "    https://scikit-learn.org/stable/modules/preprocessing.html\n",
      "Please also refer to the documentation for alternative solver options:\n",
      "    https://scikit-learn.org/stable/modules/linear_model.html#logistic-regression\n",
      "  n_iter_i = _check_optimize_result(\n"
     ]
    },
    {
     "data": {
      "text/plain": [
       "{'Logistics_Regression': 0.9990496734195163,\n",
       " 'KNN': 0.9986725596971022,\n",
       " 'Random_Forest': 0.9969076674762041,\n",
       " 'Naive Bayes': 0.7066809467062888}"
      ]
     },
     "execution_count": 60,
     "metadata": {},
     "output_type": "execute_result"
    }
   ],
   "source": [
    "model_scores = fit_score(models,X_train,X_test,y_train,y_test)\n",
    "model_scores"
   ]
  },
  {
   "cell_type": "code",
   "execution_count": 61,
   "metadata": {
    "colab": {
     "base_uri": "https://localhost:8080/",
     "height": 525
    },
    "id": "QxDMa7KqtOav",
    "outputId": "37f86700-9d7a-4871-e51d-fd81332b11ce"
   },
   "outputs": [
    {
     "data": {
      "image/png": "[encoded data removed]",
      "text/plain": [
       "<Figure size 1440x576 with 1 Axes>"
      ]
     },
     "metadata": {},
     "output_type": "display_data"
    }
   ],
   "source": [
    "pd.DataFrame(model_scores,index=['accuracy']).plot(kind='bar');"
   ]
  },
  {
   "cell_type": "markdown",
   "metadata": {
    "id": "MdMJK-YhtSAa"
   },
   "source": [
    "### Now we have a baseline models accuracy and we know which model works best for our dataset. \n",
    "\n",
    "Let's look at the following aspects of Modelling:\n",
    "\n",
    "    1.Hyperparameter Tuning\n",
    "    2.Feature importance \n",
    "    3.Confusion Matrix\n",
    "    4.Cross-Validation\n",
    "    5.Precision\n",
    "    6.Recall\n",
    "    7.F1 Score\n",
    "    8.Classification report\n",
    "    9.ROC curve\n",
    "    10.Area under the curve\n"
   ]
  },
  {
   "cell_type": "markdown",
   "metadata": {
    "id": "VkaqX9QfteRD"
   },
   "source": [
    "## 1.Hyperparameter Tuning by Hand followed by Randomized Search CV and Grid Search CV\n",
    "\n",
    "Using K-Nearest Neighbour model:"
   ]
  },
  {
   "cell_type": "code",
   "execution_count": 62,
   "metadata": {
    "id": "fQRmeB_ttYgQ"
   },
   "outputs": [],
   "source": [
    "# train_scores = []\n",
    "# test_scores = []\n",
    "# # create a list of different values for n_neighbours\n",
    "# neighbors = range(8,40,5)\n",
    "# #setup KNN instance\n",
    "# knn = KNeighborsClassifier()\n",
    "# #loop through different n_neighbours\n",
    "# for i in neighbors:\n",
    "#     knn.set_params(n_neighbors=i)\n",
    "#     # fit the algorithm\n",
    "#     knn.fit(X_train,y_train)\n",
    "#     # update the training scores list\n",
    "#     train_scores.append(knn.score(X_train,y_train))\n",
    "#     #update the test score list\n",
    "#     test_scores.append(knn.score(X_test,y_test))"
   ]
  },
  {
   "cell_type": "markdown",
   "metadata": {
    "id": "FcF3JWNKIm3i"
   },
   "source": [
    "#### Now plotting to find the elbow"
   ]
  },
  {
   "cell_type": "code",
   "execution_count": 63,
   "metadata": {
    "id": "P-KGs37mtqWm"
   },
   "outputs": [],
   "source": [
    "# plt.plot(neighbors,train_scores,label=\"Train Scores\")\n",
    "# plt.plot(neighbors,test_scores,label=\"Test Scores\")\n",
    "# plt.xlabel(\"No of neighbors\")\n",
    "# plt.ylabel(\"Model Scores\")\n",
    "# plt.legend()\n",
    "# plt.xticks(np.arange(1,21,1))\n",
    "# print(f\"Max KNN score on test data:{max(test_scores)*100:.2f}%\")"
   ]
  },
  {
   "cell_type": "markdown",
   "metadata": {
    "id": "l881cr-6I0Ic"
   },
   "source": [
    "### We won't we using KNN or Gaussian model as Logistics Regression has the best accuracy in all the models"
   ]
  },
  {
   "cell_type": "markdown",
   "metadata": {
    "id": "Ca7GH_Xytq5f"
   },
   "source": [
    "## Hyperparameters Tuning with RandomizedSearchCV\n",
    "\n",
    "We're going to tune :\n",
    "\n",
    "    LogisticsRegression()\n",
    "    RandomForestClassifier()\n",
    "\n",
    "###Setting the grid for Logistics Regression  and Random Forest Model"
   ]
  },
  {
   "cell_type": "code",
   "execution_count": 64,
   "metadata": {
    "id": "u0T_1-CUtx58"
   },
   "outputs": [],
   "source": [
    "lr = {'C':np.logspace(-4,4,20), \n",
    "      'solver':['liblinear']\n",
    "      }\n",
    "\n",
    "\n",
    "rfc = {\n",
    "        'n_estimators':np.arange(10,1000,50),\n",
    "        \"max_depth\": [None, 3, 5, 10],\n",
    "        \"min_samples_split\": np.arange(2, 20, 2),\n",
    "        \"min_samples_leaf\": np.arange(1, 20, 2)}"
   ]
  },
  {
   "cell_type": "markdown",
   "metadata": {
    "id": "Juq-FyCYJsBv"
   },
   "source": [
    "### Using RandomizedSearchCV with our Tuned Hyperparameters\n",
    "\n",
    "For logistics regression"
   ]
  },
  {
   "cell_type": "code",
   "execution_count": 155,
   "metadata": {
    "colab": {
     "base_uri": "https://localhost:8080/"
    },
    "id": "XEIUu9aCwBUJ",
    "outputId": "a6145024-05cb-44a3-8184-2d859bd8810e"
   },
   "outputs": [
    {
     "name": "stdout",
     "output_type": "stream",
     "text": [
      "Fitting 5 folds for each of 20 candidates, totalling 100 fits\n",
      " Best Parameters are :{'solver': 'liblinear', 'C': 0.0018329807108324356}\n"
     ]
    },
    {
     "data": {
      "text/plain": [
       "0.9979485013500671"
      ]
     },
     "execution_count": 155,
     "metadata": {},
     "output_type": "execute_result"
    }
   ],
   "source": [
    "np.random.seed(42)\n",
    "rs_lr = RandomizedSearchCV(LogisticRegression(),lr,cv=5,n_iter=20,verbose=True)\n",
    "rs_lr.fit(X_train, y_train)\n",
    "print(f\" Best Parameters are :{rs_lr.best_params_}\")\n",
    "rs_lr.score(X_test,y_test)"
   ]
  },
  {
   "cell_type": "markdown",
   "metadata": {
    "id": "m3P_NyaxKfET"
   },
   "source": [
    "#### Best Parameters using Randomized Search CV for Logistics Reression are:{'solver': 'liblinear', 'C': 0.0018329807108324356} Score on Test data is 0.9979485013500671"
   ]
  },
  {
   "cell_type": "markdown",
   "metadata": {
    "id": "8lnVryzBKG41"
   },
   "source": [
    "#### For Random Forest Classifier"
   ]
  },
  {
   "cell_type": "code",
   "execution_count": 156,
   "metadata": {
    "id": "DmFNzvIVwJK5"
   },
   "outputs": [],
   "source": [
    "# np.random.seed(42)\n",
    "# rs_rfc = RandomizedSearchCV(RandomForestClassifier(),rfc,cv=5,n_iter=20,verbose=True)\n",
    "# rs_rfc.fit(X_train,y_train)\n",
    "# print(f\" Best Parameters are :{rs_rfc.best_params_}\")\n",
    "# rs_rfc.score(X_test,y_test)"
   ]
  },
  {
   "cell_type": "markdown",
   "metadata": {
    "id": "MBgGx0YQK5kz"
   },
   "source": [
    "#### Best Parametersusing Randomized Search CV for Random Forest Classifier are :{'n_estimators': 510, 'min_samples_split': 14, 'min_samples_leaf': 1, 'max_depth': None} Score on Test data is 0.9949768452174438"
   ]
  },
  {
   "cell_type": "markdown",
   "metadata": {
    "id": "8uC1vJBMwLUs"
   },
   "source": [
    "### Hyperparameter Tuning using GridSearchCV\n",
    "\n",
    "Since our Random Forest Classifier model provides the best score so far, we'll try and improve them again using GridSearchCV\n",
    "\n",
    "Preparing grid for both models\n"
   ]
  },
  {
   "cell_type": "code",
   "execution_count": 65,
   "metadata": {
    "id": "oHekbuS3wOod"
   },
   "outputs": [],
   "source": [
    "lr = {'C':np.logspace(-4,4,20), \n",
    "      'solver':['liblinear']\n",
    "      }\n",
    "\n",
    "rfc = {\n",
    "        'n_estimators':np.arange(10,1000,50),\n",
    "        \"max_depth\": [None, 3, 5, 10],\n",
    "        \"min_samples_split\": np.arange(2, 20, 2),\n",
    "        \"min_samples_leaf\": np.arange(1, 20, 2)\n",
    "        }\n"
   ]
  },
  {
   "cell_type": "markdown",
   "metadata": {
    "id": "bKjsb6x_K_Rr"
   },
   "source": [
    "### For Logistics Regression"
   ]
  },
  {
   "cell_type": "code",
   "execution_count": 66,
   "metadata": {
    "colab": {
     "base_uri": "https://localhost:8080/"
    },
    "id": "qta2CeKzwPzS",
    "outputId": "3fc25f0c-6549-4b8b-8cc2-44a9b2e6a52b"
   },
   "outputs": [
    {
     "name": "stdout",
     "output_type": "stream",
     "text": [
      "Fitting 5 folds for each of 20 candidates, totalling 100 fits\n",
      " Best Parameters are :{'C': 0.0018329807108324356, 'solver': 'liblinear'}\n"
     ]
    },
    {
     "data": {
      "text/plain": [
       "0.9979485013500671"
      ]
     },
     "execution_count": 66,
     "metadata": {},
     "output_type": "execute_result"
    }
   ],
   "source": [
    "gs_lr = GridSearchCV(LogisticRegression(),lr,cv=5,verbose=True)\n",
    "gs_lr.fit(X_train,y_train)\n",
    "print(f\" Best Parameters are :{gs_lr.best_params_}\")\n",
    "gs_lr.score(X_test,y_test)"
   ]
  },
  {
   "cell_type": "markdown",
   "metadata": {
    "id": "NFzLQPawLPeL"
   },
   "source": [
    "### Best Parameters for Logistics Regression using Grid Search CV are :{'C': 0.0018329807108324356, 'solver': 'liblinear'} Score on Test data is 0.9979485013500671"
   ]
  },
  {
   "cell_type": "markdown",
   "metadata": {
    "id": "K3EiCCQrLF8u"
   },
   "source": [
    "### For Random Forest Classifier "
   ]
  },
  {
   "cell_type": "code",
   "execution_count": 67,
   "metadata": {
    "id": "gnt6mLsKwRCX"
   },
   "outputs": [],
   "source": [
    "# gs_rfc = GridSearchCV(RandomForestClassifier(),rfc,cv=5,verbose=True)\n",
    "# gs_rfc.fit(X_train,y_train)\n",
    "# print(f\" Best Parameters are :{gs_rfc.best_params_}\")\n",
    "# gs_rfc.score(X_test,y_test)"
   ]
  },
  {
   "cell_type": "markdown",
   "metadata": {
    "id": "FRxwywOFQkqu"
   },
   "source": [
    "### We'll use Logistics Regression for further evaluation "
   ]
  },
  {
   "cell_type": "markdown",
   "metadata": {
    "id": "c1JgXLaGwSyK"
   },
   "source": [
    "## Evaluating our tuned ML classifier, beyond Accuracy using the following:\n",
    "\n",
    "    1.ROC curve and AUC curve\n",
    "    2.Confusion matrix\n",
    "    3.Classification Report\n",
    "    4.Precision\n",
    "    5.Recall\n",
    "    6.F1 Score\n",
    "\n",
    "To make comparisons and evaluate our trained model, 1st we need to make prediction\n"
   ]
  },
  {
   "cell_type": "code",
   "execution_count": 68,
   "metadata": {
    "colab": {
     "base_uri": "https://localhost:8080/"
    },
    "id": "_6aPT0v_wUiZ",
    "outputId": "ddb747bb-2655-40ec-868a-0bfe4b70c6c5"
   },
   "outputs": [
    {
     "data": {
      "text/plain": [
       "array([0, 1, 0, ..., 0, 1, 0], dtype=int64)"
      ]
     },
     "execution_count": 68,
     "metadata": {},
     "output_type": "execute_result"
    }
   ],
   "source": [
    "#make prediction with tuned model using Randomized Search CV Random Forest Classification \n",
    "y_preds = gs_lr.predict(X_test)\n",
    "y_preds"
   ]
  },
  {
   "cell_type": "code",
   "execution_count": 69,
   "metadata": {
    "colab": {
     "base_uri": "https://localhost:8080/"
    },
    "id": "MeBZgU1UwWnj",
    "outputId": "7b9ec2e7-b5aa-4330-ffb6-da64cec3af74"
   },
   "outputs": [
    {
     "data": {
      "text/plain": [
       "array([2.18225192e-195, 9.99821422e-001, 3.27026189e-141, ...,\n",
       "       1.37070982e-010, 1.00000000e+000, 4.43140135e-270])"
      ]
     },
     "execution_count": 69,
     "metadata": {},
     "output_type": "execute_result"
    }
   ],
   "source": [
    "# Predict_proba gives us confidence level i.e how well model is able to predict \n",
    "y_preds_proba = gs_lr.predict_proba(X_test)\n",
    "y_preds_proba_positive = y_preds_proba[:,1]\n",
    "y_preds_proba_positive"
   ]
  },
  {
   "cell_type": "code",
   "execution_count": 70,
   "metadata": {
    "colab": {
     "base_uri": "https://localhost:8080/"
    },
    "id": "qCewj0EswYI9",
    "outputId": "27fc2782-c8b0-4380-e02e-de077bc5f012"
   },
   "outputs": [
    {
     "data": {
      "text/plain": [
       "array([[1.00000000e+000, 2.18225192e-195],\n",
       "       [1.78578363e-004, 9.99821422e-001],\n",
       "       [1.00000000e+000, 3.27026189e-141],\n",
       "       [1.00000000e+000, 0.00000000e+000],\n",
       "       [1.00000000e+000, 3.31508854e-282]])"
      ]
     },
     "execution_count": 70,
     "metadata": {},
     "output_type": "execute_result"
    }
   ],
   "source": [
    "y_preds_proba = gs_lr.predict_proba(X_test)\n",
    "y_preds_proba[:5]\n",
    "# Predict Proba states that for the 1st value, it is 99% confident that it's a failure and 24% confident that it is a success"
   ]
  },
  {
   "cell_type": "markdown",
   "metadata": {
    "id": "qhtTCkDDpCY7"
   },
   "source": [
    "## Calculating False Positive Rate, True Positive Rate, Thresholds"
   ]
  },
  {
   "cell_type": "code",
   "execution_count": 71,
   "metadata": {
    "colab": {
     "base_uri": "https://localhost:8080/"
    },
    "id": "WqN5PojmpV25",
    "outputId": "6a2debf1-bed4-48b4-debe-96e8553bdbde"
   },
   "outputs": [
    {
     "data": {
      "text/plain": [
       "array([0, 1, 0, ..., 0, 1, 0], dtype=int64)"
      ]
     },
     "execution_count": 71,
     "metadata": {},
     "output_type": "execute_result"
    }
   ],
   "source": [
    "y_test_arr = np.array(y_test)\n",
    "y_test_arr"
   ]
  },
  {
   "cell_type": "code",
   "execution_count": 72,
   "metadata": {
    "colab": {
     "base_uri": "https://localhost:8080/"
    },
    "id": "qhWSCSrspYaO",
    "outputId": "467484ad-9d36-4d39-ef42-7d8129942633"
   },
   "outputs": [
    {
     "data": {
      "text/plain": [
       "array([2.18225192e-195, 9.99821422e-001, 3.27026189e-141, ...,\n",
       "       1.37070982e-010, 1.00000000e+000, 4.43140135e-270])"
      ]
     },
     "execution_count": 72,
     "metadata": {},
     "output_type": "execute_result"
    }
   ],
   "source": [
    "y_preds_proba_positive"
   ]
  },
  {
   "cell_type": "code",
   "execution_count": 73,
   "metadata": {
    "id": "ouDXmmD6wZg0"
   },
   "outputs": [],
   "source": [
    "fpr, tpr,thresholds = roc_curve(y_test_arr, y_preds_proba_positive)"
   ]
  },
  {
   "cell_type": "code",
   "execution_count": 74,
   "metadata": {
    "colab": {
     "base_uri": "https://localhost:8080/",
     "height": 355
    },
    "id": "zBFVPUw2wbgF",
    "outputId": "e265ac88-f58e-4cb7-e214-b7884124d220"
   },
   "outputs": [
    {
     "data": {
      "image/png": "[encoded data removed]",
      "text/plain": [
       "<Figure size 720x360 with 1 Axes>"
      ]
     },
     "metadata": {},
     "output_type": "display_data"
    }
   ],
   "source": [
    "# create a fn for plotting ROC curves\n",
    "import matplotlib.pyplot as plt\n",
    "def plot_roc_curves(fpr,tpr):\n",
    "    \"\"\"\n",
    "    Plots a ROC curve given  the false positive rate(fpr)\n",
    "    and true positive rate(tpr) of a model. \n",
    "    \"\"\"\n",
    "    # Plot a curve\n",
    "    plt.figure(figsize=(10,5))\n",
    "    plt.plot(fpr,tpr,color=\"orange\",label =\"ROC\")\n",
    "    # Plot line with no predictive power(baseline)\n",
    "    #plt.plot([0,1],[0,1], color=\"darkblue\", linestyle=\"--\", label=\"Guessing\") # uncomment later\n",
    "    # Customize the plot\n",
    "    plt.xlabel(\"False positive rate(fpr)\")\n",
    "    plt.ylabel(\"True positive rate(tpr)\")\n",
    "    plt.title(\"Receiver Operating Characterisitics (ROC) curve\")\n",
    "    plt.legend()\n",
    "    plt.show()\n",
    "   \n",
    "plot_roc_curves(fpr,tpr)"
   ]
  },
  {
   "cell_type": "code",
   "execution_count": 75,
   "metadata": {
    "colab": {
     "base_uri": "https://localhost:8080/",
     "height": 558
    },
    "id": "5wpI0fTDwd_Z",
    "outputId": "07c2507a-74be-482a-f80e-6facfb7e9d7c"
   },
   "outputs": [
    {
     "name": "stderr",
     "output_type": "stream",
     "text": [
      "C:\\Users\\acer\\Desktop\\sample_project_1\\env\\lib\\site-packages\\sklearn\\utils\\deprecation.py:87: FutureWarning: Function plot_roc_curve is deprecated; Function `plot_roc_curve` is deprecated in 1.0 and will be removed in 1.2. Use one of the class methods: RocCurveDisplay.from_predictions or RocCurveDisplay.from_estimator.\n",
      "  warnings.warn(msg, category=FutureWarning)\n"
     ]
    },
    {
     "data": {
      "image/png": "[encoded data removed]",
      "text/plain": [
       "<Figure size 1440x576 with 1 Axes>"
      ]
     },
     "metadata": {},
     "output_type": "display_data"
    }
   ],
   "source": [
    "## Plot ROC curve and calculate AUC metric\n",
    "plot_roc_curve(gs_lr,X_test,y_test);"
   ]
  },
  {
   "cell_type": "code",
   "execution_count": 76,
   "metadata": {
    "colab": {
     "base_uri": "https://localhost:8080/"
    },
    "id": "BG1RyZjZwfPr",
    "outputId": "b65f392f-8612-4adc-e727-bffa532be665"
   },
   "outputs": [
    {
     "name": "stdout",
     "output_type": "stream",
     "text": [
      "[[39373   136]\n",
      " [    0 26784]]\n"
     ]
    }
   ],
   "source": [
    "#Confusion Matrix\n",
    "print(confusion_matrix(y_test,y_preds))"
   ]
  },
  {
   "cell_type": "code",
   "execution_count": 77,
   "metadata": {
    "colab": {
     "base_uri": "https://localhost:8080/",
     "height": 502
    },
    "id": "Zm9juRzYwgx3",
    "outputId": "85391d2c-2717-4e53-833e-1810624b13e3"
   },
   "outputs": [
    {
     "data": {
      "image/png": "[encoded data removed]",
      "text/plain": [
       "<Figure size 576x576 with 1 Axes>"
      ]
     },
     "metadata": {},
     "output_type": "display_data"
    }
   ],
   "source": [
    "#plotting a nice looking confusion_matrix using seaborn\n",
    "def plot_conf_mat(y_test,y_preds):\n",
    "    fig, ax = plt.subplots(figsize=(8,8))\n",
    "    ax = sns.heatmap(confusion_matrix(y_test,y_preds),annot=True,cbar=False,fmt=\".1f\")\n",
    "    plt.xlabel(\"True label\")\n",
    "    plt.ylabel('Predicted label')\n",
    "plot_conf_mat(y_test,y_preds)"
   ]
  },
  {
   "cell_type": "markdown",
   "metadata": {
    "id": "Ct6QR1kOwjFR"
   },
   "source": [
    "### We have ROC curve, AUC metric and confusion matrix,  let's get a classification report as well as Cross validated Precision,recall, f1 score"
   ]
  },
  {
   "cell_type": "code",
   "execution_count": 78,
   "metadata": {
    "colab": {
     "base_uri": "https://localhost:8080/"
    },
    "id": "_ayJDJZgwlQX",
    "outputId": "61edbba2-4ef8-46dc-e291-319081f5bcd1"
   },
   "outputs": [
    {
     "name": "stdout",
     "output_type": "stream",
     "text": [
      "              precision    recall  f1-score   support\n",
      "\n",
      "           0       1.00      1.00      1.00     39509\n",
      "           1       0.99      1.00      1.00     26784\n",
      "\n",
      "    accuracy                           1.00     66293\n",
      "   macro avg       1.00      1.00      1.00     66293\n",
      "weighted avg       1.00      1.00      1.00     66293\n",
      "\n"
     ]
    }
   ],
   "source": [
    "print(classification_report(y_test,y_preds))"
   ]
  },
  {
   "cell_type": "markdown",
   "metadata": {
    "id": "5RyXGNNfwmjK"
   },
   "source": [
    "# Calculate evaluation metrics using CV\n",
    "\n",
    "We're going to calculate accuracy,precision, recall, f1 score of our model using CV and to do so we'll be using cross_val_score\n"
   ]
  },
  {
   "cell_type": "code",
   "execution_count": 79,
   "metadata": {
    "id": "Xq4kLB3wwrM6"
   },
   "outputs": [],
   "source": [
    "clf = LogisticRegression(C=0.0018329807108324356, solver='liblinear')"
   ]
  },
  {
   "cell_type": "code",
   "execution_count": 80,
   "metadata": {
    "colab": {
     "base_uri": "https://localhost:8080/"
    },
    "id": "kn1mhPo2wsPr",
    "outputId": "5db77533-0a4b-422a-ddf7-3f9c147c1e09"
   },
   "outputs": [
    {
     "data": {
      "text/plain": [
       "0.9974416400279082"
      ]
     },
     "execution_count": 80,
     "metadata": {},
     "output_type": "execute_result"
    }
   ],
   "source": [
    "# Cross-validated accuracy\n",
    "cv_acc = cross_val_score(clf,\n",
    "                         X,\n",
    "                         y,\n",
    "                         cv=5,\n",
    "                         scoring=\"accuracy\")\n",
    "np.mean(cv_acc)"
   ]
  },
  {
   "cell_type": "code",
   "execution_count": 81,
   "metadata": {
    "colab": {
     "base_uri": "https://localhost:8080/"
    },
    "id": "anycVa-LwtQs",
    "outputId": "609c6997-1909-448c-f9a5-6649fa12de54"
   },
   "outputs": [
    {
     "data": {
      "text/plain": [
       "0.9937328327615852"
      ]
     },
     "execution_count": 81,
     "metadata": {},
     "output_type": "execute_result"
    }
   ],
   "source": [
    "# Cross-validated precision\n",
    "cv_precision = cross_val_score(clf,\n",
    "                         X,\n",
    "                         y,\n",
    "                         cv=5,\n",
    "                         scoring=\"precision\")\n",
    "cv_precision=np.mean(cv_precision)\n",
    "cv_precision"
   ]
  },
  {
   "cell_type": "code",
   "execution_count": 82,
   "metadata": {
    "colab": {
     "base_uri": "https://localhost:8080/"
    },
    "id": "S9UjpCURwue8",
    "outputId": "1db97d07-355d-492a-f175-c7ba1046703a"
   },
   "outputs": [
    {
     "data": {
      "text/plain": [
       "0.9999925289503174"
      ]
     },
     "execution_count": 82,
     "metadata": {},
     "output_type": "execute_result"
    }
   ],
   "source": [
    "# Cross-validated recall\n",
    "cv_recall = cross_val_score(clf,\n",
    "                         X,\n",
    "                         y,\n",
    "                         cv=5,\n",
    "                         scoring=\"recall\")\n",
    "cv_recall = np.mean(cv_recall)\n",
    "cv_recall"
   ]
  },
  {
   "cell_type": "code",
   "execution_count": 83,
   "metadata": {
    "colab": {
     "base_uri": "https://localhost:8080/"
    },
    "id": "zCaXE8qOwvgG",
    "outputId": "6d7a72d4-985e-48ab-ec48-690c9ef76a91"
   },
   "outputs": [
    {
     "data": {
      "text/plain": [
       "0.996847599076238"
      ]
     },
     "execution_count": 83,
     "metadata": {},
     "output_type": "execute_result"
    }
   ],
   "source": [
    "# Cross-validated f1-score\n",
    "cv_f1 = cross_val_score(clf,\n",
    "                         X,\n",
    "                         y,\n",
    "                         cv=5,\n",
    "                         scoring=\"f1\")\n",
    "cv_f1 = np.mean(cv_f1)\n",
    "cv_f1"
   ]
  },
  {
   "cell_type": "code",
   "execution_count": 84,
   "metadata": {
    "colab": {
     "base_uri": "https://localhost:8080/",
     "height": 542
    },
    "id": "ofFYdDP0wxdN",
    "outputId": "daaab094-10c9-4158-be7e-be7851b87095"
   },
   "outputs": [
    {
     "data": {
      "image/png": "[encoded data removed]",
      "text/plain": [
       "<Figure size 1440x576 with 1 Axes>"
      ]
     },
     "metadata": {},
     "output_type": "display_data"
    }
   ],
   "source": [
    "#Visualize the above 4 metrics\n",
    "cv_metrics = pd.DataFrame({\"Accuracy\": cv_acc,\n",
    "                           \"Precision\": cv_precision,\n",
    "                           \"Recall\": cv_recall,\n",
    "                           \"F1\": cv_f1})# try adding index ie index[0,1,2,3]\n",
    "cv_metrics.T.plot.bar(title=\"Cross-validated classification metrics\",\n",
    "                      legend=False);"
   ]
  },
  {
   "cell_type": "code",
   "execution_count": 85,
   "metadata": {
    "colab": {
     "base_uri": "https://localhost:8080/",
     "height": 500
    },
    "id": "RQlFaSGSwyls",
    "outputId": "760f81a6-2b83-46fb-b4cf-915881160fc0"
   },
   "outputs": [
    {
     "data": {
      "text/plain": [
       "<AxesSubplot:>"
      ]
     },
     "execution_count": 85,
     "metadata": {},
     "output_type": "execute_result"
    },
    {
     "data": {
      "image/png": "[encoded data removed]",
      "text/plain": [
       "<Figure size 1440x576 with 1 Axes>"
      ]
     },
     "metadata": {},
     "output_type": "display_data"
    }
   ],
   "source": [
    "cv_metrics.plot(kind='bar')"
   ]
  },
  {
   "cell_type": "markdown",
   "metadata": {
    "id": "t32ijKJawz1X"
   },
   "source": [
    "# Feature Importance-\n",
    "\n",
    "Feature importance is asking- which features contributed most to the outcomes of the model and their contribution\n",
    "\n",
    "Finding Feature Importance is different for each ML model. One way to find feature importance is to search for (Model Name)feature importance\n",
    "\n",
    "Let's find out feature importance for our Logistics Regression Model..\n"
   ]
  },
  {
   "cell_type": "code",
   "execution_count": 86,
   "metadata": {
    "id": "STdZvIXDw1to"
   },
   "outputs": [],
   "source": [
    "# Fit an instance of LogisticsRegresison\n",
    "gs_lr.best_params_ #just to get C and solver value\n",
    "clf = LogisticRegression(C=0.0018329807108324356, solver='liblinear')\n",
    "clf.fit(X_train,y_train);"
   ]
  },
  {
   "cell_type": "code",
   "execution_count": 87,
   "metadata": {
    "colab": {
     "base_uri": "https://localhost:8080/"
    },
    "id": "UFgcVOHPw3Nw",
    "outputId": "f183f9dd-311b-438c-e742-4b729e14dfee"
   },
   "outputs": [
    {
     "data": {
      "text/plain": [
       "array([ 8.56901220e-04,  3.62495451e-03,  2.11750242e-03, -6.49675343e-02,\n",
       "        6.56149169e-02,  1.23421904e-02,  4.14539316e-04, -8.26913848e-05,\n",
       "        1.25535277e-03,  2.98718864e-04, -8.79373271e-04,  4.13265083e-04,\n",
       "       -7.02334680e-05,  5.90185513e-04, -1.95082310e-04, -1.43157433e-03])"
      ]
     },
     "execution_count": 87,
     "metadata": {},
     "output_type": "execute_result"
    }
   ],
   "source": [
    "#check coeff\n",
    "clf.coef_[0]"
   ]
  },
  {
   "cell_type": "code",
   "execution_count": 88,
   "metadata": {
    "colab": {
     "base_uri": "https://localhost:8080/"
    },
    "id": "P_ZdtkBLw4cj",
    "outputId": "dba8df70-d774-422c-87a6-25bdb2ca5f59"
   },
   "outputs": [
    {
     "data": {
      "text/plain": [
       "{'Category': 0.0008569012198396534,\n",
       " 'Subcategory': 0.0036249545058912153,\n",
       " 'Country': 0.0021175024178140375,\n",
       " 'Goal': -0.064967534308704,\n",
       " 'Pledged': 0.06561491693596899,\n",
       " 'Backers': 0.012342190360043342,\n",
       " 'State': 0.0004145393162137843,\n",
       " 'Launch_year': -8.269138476060825e-05,\n",
       " 'Launch_month': 0.0012553527669263798,\n",
       " 'Launch_day': 0.00029871886402973985,\n",
       " 'Launch_dayofweek': -0.0008793732705416465,\n",
       " 'Launch_dayofyear': 0.0004132650825144633,\n",
       " 'Deadline_year': -7.023346797255757e-05,\n",
       " 'Deadline_month': 0.0005901855131787482,\n",
       " 'Deadline_day': -0.00019508230977103322,\n",
       " 'Deadline_dayofweek': -0.0014315743252019965}"
      ]
     },
     "execution_count": 88,
     "metadata": {},
     "output_type": "execute_result"
    }
   ],
   "source": [
    "# Match coef's of features to columns\n",
    "feature_dict = dict(zip(df.columns, list(clf.coef_[0])))\n",
    "feature_dict"
   ]
  },
  {
   "cell_type": "code",
   "execution_count": 89,
   "metadata": {
    "colab": {
     "base_uri": "https://localhost:8080/",
     "height": 606
    },
    "id": "6XfykR72w51z",
    "outputId": "1280da96-82b0-405e-9878-95b1cf45da67"
   },
   "outputs": [
    {
     "data": {
      "image/png": "[encoded data removed]",
      "text/plain": [
       "<Figure size 1440x576 with 1 Axes>"
      ]
     },
     "metadata": {},
     "output_type": "display_data"
    }
   ],
   "source": [
    "# Visualize feature importance\n",
    "feature_df = pd.DataFrame(feature_dict, index=[0])\n",
    "feature_df.T.plot.bar(title=\"Feature Importance\", legend=False);"
   ]
  },
  {
   "cell_type": "markdown",
   "metadata": {
    "id": "6rNm87z2w7mn"
   },
   "source": [
    "# Let's Find the Answers for the below questions with the help of Power BI to get better insights from the data-PDF "
   ]
  },
  {
   "cell_type": "markdown",
   "metadata": {},
   "source": [
    "## 1.Which category has the highest success percentage? How many projects have been successful?"
   ]
  },
  {
   "cell_type": "code",
   "execution_count": 91,
   "metadata": {},
   "outputs": [],
   "source": [
    "# Success for a Kickstarter Project is when the Pledged Amount exceeds Goal Amount which certainly tells that \n",
    "#investors are confident about certain projects. Such top 3 category of Projects include Film&Video, Games, Technology"
   ]
  },
  {
   "cell_type": "markdown",
   "metadata": {},
   "source": [
    "## 2.What project with a goal over 1,000 USD, had the biggest Goal Completion % (Pledged / Goal)? How much money was pledged?"
   ]
  },
  {
   "cell_type": "code",
   "execution_count": 92,
   "metadata": {},
   "outputs": [],
   "source": [
    "#Project of goal over $1000 USD which had biggest Goal Completion and a good Pledged/Goal Ratio is \n",
    "#Product Design SubCategory"
   ]
  },
  {
   "cell_type": "markdown",
   "metadata": {},
   "source": [
    "## 3.Can we identify any trends in project success rates over the years?"
   ]
  },
  {
   "cell_type": "code",
   "execution_count": null,
   "metadata": {},
   "outputs": [],
   "source": [
    "#We can certainly say that there was a boom after 2014 and reached its zenith in 2015 for Successful Projects"
   ]
  },
  {
   "cell_type": "markdown",
   "metadata": {},
   "source": [
    "## 4.As an investor, what types of projects should you be looking at to guarantee future success?"
   ]
  },
  {
   "cell_type": "code",
   "execution_count": 93,
   "metadata": {},
   "outputs": [],
   "source": [
    "#As an investor, I would certainly want to invest in projects which have high rate of success. \n",
    "#Such projects which have given fruitful results are Games, Design,Technology,Film&Videos"
   ]
  },
  {
   "cell_type": "code",
   "execution_count": null,
   "metadata": {},
   "outputs": [],
   "source": []
  }
 ],
 "metadata": {
  "colab": {
   "collapsed_sections": [],
   "name": "Kickstarter_Project.ipynb",
   "provenance": []
  },
  "gpuClass": "standard",
  "kernelspec": {
   "display_name": "Python 3 (ipykernel)",
   "language": "python",
   "name": "python3"
  },
  "language_info": {
   "codemirror_mode": {
    "name": "ipython",
    "version": 3
   },
   "file_extension": ".py",
   "mimetype": "text/x-python",
   "name": "python",
   "nbconvert_exporter": "python",
   "pygments_lexer": "ipython3",
   "version": "3.9.7"
  }
 },
 "nbformat": 4,
 "nbformat_minor": 1
}
